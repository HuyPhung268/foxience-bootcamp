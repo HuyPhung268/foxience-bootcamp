{
 "cells": [
  {
   "cell_type": "markdown",
   "metadata": {},
   "source": [
    "# \\[Practice\\] Lesson 1: Introduction to Data Analysis\n",
    "\n",
    "Contents:\n",
    "1. Data types\n",
    "2. Install and import supporting packages for data analysis\n",
    "3. Importing data\n",
    "4. Exporting data"
   ]
  },
  {
   "cell_type": "markdown",
   "metadata": {},
   "source": [
    "## 1. Data types"
   ]
  },
  {
   "cell_type": "markdown",
   "metadata": {},
   "source": [
    "### 1.1. Text: str"
   ]
  },
  {
   "cell_type": "code",
   "execution_count": 1,
   "metadata": {},
   "outputs": [
    {
     "data": {
      "text/plain": [
       "str"
      ]
     },
     "execution_count": 1,
     "metadata": {},
     "output_type": "execute_result"
    }
   ],
   "source": [
    "greeting = \"Hello from the other side\"\n",
    "type(greeting)"
   ]
  },
  {
   "cell_type": "code",
   "execution_count": 2,
   "metadata": {},
   "outputs": [
    {
     "name": "stdout",
     "output_type": "stream",
     "text": [
      "greeting[0]: H\n",
      "greeting[-1]: e\n",
      "Length of the string: 25\n"
     ]
    }
   ],
   "source": [
    "# String can be sliced\n",
    "print(\"greeting[0]: %s\" % greeting[0])\n",
    "print(\"greeting[-1]: %s\" % greeting[-1])\n",
    "print(\"Length of the string: %d\" % len(greeting))"
   ]
  },
  {
   "cell_type": "markdown",
   "metadata": {},
   "source": [
    "### 1.2. Numeric: int, float, complex"
   ]
  },
  {
   "cell_type": "code",
   "execution_count": 3,
   "metadata": {},
   "outputs": [
    {
     "name": "stdout",
     "output_type": "stream",
     "text": [
      "Type of a: <class 'int'>\n",
      "Type of b: <class 'float'>\n",
      "Type of c: <class 'float'>\n",
      "Type of z: <class 'complex'>\n"
     ]
    }
   ],
   "source": [
    "a = 5\n",
    "b = 5.0\n",
    "c = 5.5\n",
    "z = complex(3,7)\n",
    "print('Type of a: %s' % type(a))\n",
    "print('Type of b: %s' % type(b))\n",
    "print('Type of c: %s' % type(c))\n",
    "print('Type of z: %s' % type(z))"
   ]
  },
  {
   "cell_type": "code",
   "execution_count": 4,
   "metadata": {},
   "outputs": [
    {
     "name": "stdout",
     "output_type": "stream",
     "text": [
      "6.0\n",
      "Type of c: <class 'float'>\n"
     ]
    }
   ],
   "source": [
    "c = 10 - 4.0\n",
    "print(c)\n",
    "print(\"Type of c: %s\" % type(c))"
   ]
  },
  {
   "cell_type": "code",
   "execution_count": 5,
   "metadata": {},
   "outputs": [
    {
     "name": "stdout",
     "output_type": "stream",
     "text": [
      "The real part of z is: 3.0\n",
      "The imaginary part of z is: 7.0\n"
     ]
    }
   ],
   "source": [
    "print(\"The real part of z is: \", end=\"\")\n",
    "print(z.real)\n",
    "print(\"The imaginary part of z is: \", end=\"\")\n",
    "print(z.imag)"
   ]
  },
  {
   "cell_type": "markdown",
   "metadata": {},
   "source": [
    "### 1.3. Sequence: list, tuple, range"
   ]
  },
  {
   "cell_type": "code",
   "execution_count": 6,
   "metadata": {},
   "outputs": [
    {
     "name": "stdout",
     "output_type": "stream",
     "text": [
      "Type of A: <class 'list'>\n",
      "Type of B: <class 'tuple'>\n",
      "Type of C: <class 'range'>\n"
     ]
    }
   ],
   "source": [
    "A = [1,5,\"a\", \"hello\"]\n",
    "B = (1,5,8,\"a\")\n",
    "C = range(5,10)\n",
    "print(\"Type of A: %s\" % type(A))\n",
    "print(\"Type of B: %s\" % type(B))\n",
    "print(\"Type of C: %s\" % type(C))"
   ]
  },
  {
   "cell_type": "code",
   "execution_count": 7,
   "metadata": {},
   "outputs": [
    {
     "data": {
      "text/plain": [
       "[[1, 5, 'a', 'hello'], 'b', 'b']"
      ]
     },
     "execution_count": 7,
     "metadata": {},
     "output_type": "execute_result"
    }
   ],
   "source": [
    "# List can contain any data types and duplicated elements. For example, list can contain a list\n",
    "A1 = [A, \"b\", 'b']\n",
    "A1"
   ]
  },
  {
   "cell_type": "code",
   "execution_count": 8,
   "metadata": {},
   "outputs": [
    {
     "name": "stdout",
     "output_type": "stream",
     "text": [
      "Length of A: 4\n",
      "Length of A1: 3\n"
     ]
    }
   ],
   "source": [
    "# Length of list\n",
    "print(\"Length of A: %d\" % len(A))\n",
    "print(\"Length of A1: %d\" % len(A1))"
   ]
  },
  {
   "cell_type": "code",
   "execution_count": 9,
   "metadata": {},
   "outputs": [
    {
     "name": "stdout",
     "output_type": "stream",
     "text": [
      "1\n",
      "a\n",
      "8\n"
     ]
    }
   ],
   "source": [
    "# Slicing in list, tuple, and range\n",
    "print(A[0])\n",
    "print(B[-1])\n",
    "print(C[-2])"
   ]
  },
  {
   "cell_type": "code",
   "execution_count": 10,
   "metadata": {},
   "outputs": [
    {
     "name": "stdout",
     "output_type": "stream",
     "text": [
      "A: [1, 'replace', 'a', 'hello']\n"
     ]
    },
    {
     "ename": "TypeError",
     "evalue": "'tuple' object does not support item assignment",
     "output_type": "error",
     "traceback": [
      "\u001b[0;31m---------------------------------------------------------------------------\u001b[0m",
      "\u001b[0;31mTypeError\u001b[0m                                 Traceback (most recent call last)",
      "\u001b[0;32m<ipython-input-10-b2f7dd5aef77>\u001b[0m in \u001b[0;36m<module>\u001b[0;34m\u001b[0m\n\u001b[1;32m      4\u001b[0m \u001b[0mprint\u001b[0m\u001b[0;34m(\u001b[0m\u001b[0mA\u001b[0m\u001b[0;34m)\u001b[0m\u001b[0;34m\u001b[0m\u001b[0;34m\u001b[0m\u001b[0m\n\u001b[1;32m      5\u001b[0m \u001b[0;31m# This line will return error\u001b[0m\u001b[0;34m\u001b[0m\u001b[0;34m\u001b[0m\u001b[0;34m\u001b[0m\u001b[0m\n\u001b[0;32m----> 6\u001b[0;31m \u001b[0mB\u001b[0m\u001b[0;34m[\u001b[0m\u001b[0;36m0\u001b[0m\u001b[0;34m]\u001b[0m \u001b[0;34m=\u001b[0m \u001b[0;36m1\u001b[0m\u001b[0;34m\u001b[0m\u001b[0;34m\u001b[0m\u001b[0m\n\u001b[0m",
      "\u001b[0;31mTypeError\u001b[0m: 'tuple' object does not support item assignment"
     ]
    }
   ],
   "source": [
    "# List is mutable;range and tuple are immutable\n",
    "A[1] = \"replace\"\n",
    "print(\"A: \", end=\"\")\n",
    "print(A)\n",
    "# This line will return error\n",
    "B[0] = 1"
   ]
  },
  {
   "cell_type": "code",
   "execution_count": 11,
   "metadata": {},
   "outputs": [
    {
     "ename": "TypeError",
     "evalue": "'range' object does not support item assignment",
     "output_type": "error",
     "traceback": [
      "\u001b[0;31m---------------------------------------------------------------------------\u001b[0m",
      "\u001b[0;31mTypeError\u001b[0m                                 Traceback (most recent call last)",
      "\u001b[0;32m<ipython-input-11-9de1c1103ca6>\u001b[0m in \u001b[0;36m<module>\u001b[0;34m\u001b[0m\n\u001b[1;32m      1\u001b[0m \u001b[0;31m# This line will return error\u001b[0m\u001b[0;34m\u001b[0m\u001b[0;34m\u001b[0m\u001b[0;34m\u001b[0m\u001b[0m\n\u001b[0;32m----> 2\u001b[0;31m \u001b[0mC\u001b[0m\u001b[0;34m[\u001b[0m\u001b[0;36m0\u001b[0m\u001b[0;34m]\u001b[0m \u001b[0;34m=\u001b[0m \u001b[0;36m2\u001b[0m\u001b[0;34m\u001b[0m\u001b[0;34m\u001b[0m\u001b[0m\n\u001b[0m",
      "\u001b[0;31mTypeError\u001b[0m: 'range' object does not support item assignment"
     ]
    }
   ],
   "source": [
    "# This line will return error\n",
    "C[0] = 2"
   ]
  },
  {
   "cell_type": "markdown",
   "metadata": {},
   "source": [
    "### 1.4. Mapping: dict"
   ]
  },
  {
   "cell_type": "code",
   "execution_count": 12,
   "metadata": {},
   "outputs": [
    {
     "name": "stdout",
     "output_type": "stream",
     "text": [
      "A_dict: {'a': 1, 'b': 5, 'c': 3}\n",
      "Keys: dict_keys(['a', 'b', 'c'])\n",
      "Values: dict_values([1, 5, 3])\n"
     ]
    }
   ],
   "source": [
    "A_dict = dict({\"a\": 1, \"b\": 5, \"c\": 3})\n",
    "print(\"A_dict: \", end=\"\")\n",
    "print(A_dict)\n",
    "print(\"Keys: \", end=\"\")\n",
    "print(A_dict.keys())\n",
    "print(\"Values: \", end=\"\")\n",
    "print(A_dict.values())"
   ]
  },
  {
   "cell_type": "code",
   "execution_count": 13,
   "metadata": {},
   "outputs": [
    {
     "name": "stdout",
     "output_type": "stream",
     "text": [
      "A_dict: {'a': 0, 'b': 5, 'c': 3, 'd': 4}\n"
     ]
    }
   ],
   "source": [
    "# Dictionary is muatable\n",
    "A_dict[\"d\"] = 4\n",
    "A_dict[\"a\"] = 0\n",
    "print(\"A_dict: \", end=\"\")\n",
    "print(A_dict)"
   ]
  },
  {
   "cell_type": "markdown",
   "metadata": {},
   "source": [
    "### 1.5. Set"
   ]
  },
  {
   "cell_type": "code",
   "execution_count": 14,
   "metadata": {},
   "outputs": [
    {
     "name": "stdout",
     "output_type": "stream",
     "text": [
      "{1, 5, 6}\n",
      "{2, 3, 5, 6}\n"
     ]
    }
   ],
   "source": [
    "A = set((1,5,5,6))\n",
    "type(A)\n",
    "print(A)\n",
    "B = [5,5,6,3,2,3]\n",
    "print(set(B))"
   ]
  },
  {
   "cell_type": "markdown",
   "metadata": {},
   "source": [
    "### 1.6. Boolean"
   ]
  },
  {
   "cell_type": "code",
   "execution_count": 15,
   "metadata": {},
   "outputs": [
    {
     "data": {
      "text/plain": [
       "bool"
      ]
     },
     "execution_count": 15,
     "metadata": {},
     "output_type": "execute_result"
    }
   ],
   "source": [
    "a = True\n",
    "type(a)"
   ]
  },
  {
   "cell_type": "code",
   "execution_count": 16,
   "metadata": {},
   "outputs": [
    {
     "name": "stdout",
     "output_type": "stream",
     "text": [
      "False\n"
     ]
    }
   ],
   "source": [
    "b = 1!=1\n",
    "print(b)"
   ]
  },
  {
   "cell_type": "markdown",
   "metadata": {},
   "source": [
    "## 2. Install and import supporting packages for data analysis\n",
    "\n",
    "![packages](../images/packages.png)\n",
    "\n",
    "Today, we will install pandas, numpy, matplotlib, and seaborn. To install, you can use ```pip``` or ```conda```\n",
    "```bash\n",
    "pip install <package name>\n",
    "conda install <package name>\n",
    "```\n",
    "\n",
    "Import these packages for use:"
   ]
  },
  {
   "cell_type": "code",
   "execution_count": 17,
   "metadata": {},
   "outputs": [],
   "source": [
    "import pandas as pd\n",
    "import numpy as np\n",
    "import matplotlib.pyplot as plt\n",
    "import seaborn as sns"
   ]
  },
  {
   "cell_type": "markdown",
   "metadata": {},
   "source": [
    "## 3. Import data\n",
    "\n",
    "- From local files: text, table\n",
    "- Request from API"
   ]
  },
  {
   "cell_type": "code",
   "execution_count": 18,
   "metadata": {},
   "outputs": [],
   "source": [
    "import os\n",
    "DATA = \"../data\""
   ]
  },
  {
   "cell_type": "markdown",
   "metadata": {},
   "source": [
    "#### Read table-like data"
   ]
  },
  {
   "cell_type": "code",
   "execution_count": 19,
   "metadata": {},
   "outputs": [
    {
     "data": {
      "text/html": [
       "<div>\n",
       "<style scoped>\n",
       "    .dataframe tbody tr th:only-of-type {\n",
       "        vertical-align: middle;\n",
       "    }\n",
       "\n",
       "    .dataframe tbody tr th {\n",
       "        vertical-align: top;\n",
       "    }\n",
       "\n",
       "    .dataframe thead th {\n",
       "        text-align: right;\n",
       "    }\n",
       "</style>\n",
       "<table border=\"1\" class=\"dataframe\">\n",
       "  <thead>\n",
       "    <tr style=\"text-align: right;\">\n",
       "      <th></th>\n",
       "      <th>SepalLength</th>\n",
       "      <th>SepalWidth</th>\n",
       "      <th>PetalLength</th>\n",
       "      <th>PetalWidth</th>\n",
       "      <th>TrainingClass</th>\n",
       "    </tr>\n",
       "  </thead>\n",
       "  <tbody>\n",
       "    <tr>\n",
       "      <th>0</th>\n",
       "      <td>5.1</td>\n",
       "      <td>3.5</td>\n",
       "      <td>1.4</td>\n",
       "      <td>0.2</td>\n",
       "      <td>Iris-setosa</td>\n",
       "    </tr>\n",
       "    <tr>\n",
       "      <th>1</th>\n",
       "      <td>4.9</td>\n",
       "      <td>3.0</td>\n",
       "      <td>1.4</td>\n",
       "      <td>0.2</td>\n",
       "      <td>Iris-setosa</td>\n",
       "    </tr>\n",
       "    <tr>\n",
       "      <th>2</th>\n",
       "      <td>4.7</td>\n",
       "      <td>3.2</td>\n",
       "      <td>1.3</td>\n",
       "      <td>0.2</td>\n",
       "      <td>Iris-setosa</td>\n",
       "    </tr>\n",
       "    <tr>\n",
       "      <th>3</th>\n",
       "      <td>4.6</td>\n",
       "      <td>3.1</td>\n",
       "      <td>1.5</td>\n",
       "      <td>0.2</td>\n",
       "      <td>Iris-setosa</td>\n",
       "    </tr>\n",
       "    <tr>\n",
       "      <th>4</th>\n",
       "      <td>5.0</td>\n",
       "      <td>3.6</td>\n",
       "      <td>1.4</td>\n",
       "      <td>0.2</td>\n",
       "      <td>Iris-setosa</td>\n",
       "    </tr>\n",
       "  </tbody>\n",
       "</table>\n",
       "</div>"
      ],
      "text/plain": [
       "   SepalLength  SepalWidth  PetalLength  PetalWidth TrainingClass\n",
       "0          5.1         3.5          1.4         0.2   Iris-setosa\n",
       "1          4.9         3.0          1.4         0.2   Iris-setosa\n",
       "2          4.7         3.2          1.3         0.2   Iris-setosa\n",
       "3          4.6         3.1          1.5         0.2   Iris-setosa\n",
       "4          5.0         3.6          1.4         0.2   Iris-setosa"
      ]
     },
     "execution_count": 19,
     "metadata": {},
     "output_type": "execute_result"
    }
   ],
   "source": [
    "# Use pandas to read table-like data. These files can have ext: .txt, .csv, .xlsx, .tsv\n",
    "iris = pd.read_table(os.path.join(DATA, \"iris.data.txt\"), sep=\",\")\n",
    "iris.head()"
   ]
  },
  {
   "cell_type": "code",
   "execution_count": 20,
   "metadata": {},
   "outputs": [
    {
     "data": {
      "text/plain": [
       "pandas.core.frame.DataFrame"
      ]
     },
     "execution_count": 20,
     "metadata": {},
     "output_type": "execute_result"
    }
   ],
   "source": [
    "type(iris)"
   ]
  },
  {
   "cell_type": "markdown",
   "metadata": {},
   "source": [
    "If your files have extension ```.csv``` or ```.xlsx```, use ```pd.read_csv()``` and ```pd.read_excel()```, respectively. Your homeworks: Find some ```.csv``` or ```.xlsx``` and try import data into Python."
   ]
  },
  {
   "cell_type": "markdown",
   "metadata": {},
   "source": [
    "#### Read not table formatted data"
   ]
  },
  {
   "cell_type": "code",
   "execution_count": 21,
   "metadata": {},
   "outputs": [],
   "source": [
    "# The line below will return error because\n",
    "# cv = pd.read_table(os.path.join(DATA, \"cv.txt\"), sep=\",\")\n",
    "nodes = pd.DataFrame(columns=[\"ID\", \"Name\", \"Image\"])\n",
    "edges = pd.DataFrame(columns = [\"ID\", \"Arg1 ID\", \"Arg2 ID\", \"Color code\"])\n",
    "f = open(os.path.join(DATA, \"cv.txt\"), \"r\")\n",
    "for line in f:\n",
    "    sep = line.strip(\"\\n\").split(\"\\t\")\n",
    "    if len(sep) == 3:\n",
    "        nodes.loc[len(nodes),:] = sep\n",
    "    else:\n",
    "        edges.loc[len(edges),:] = sep"
   ]
  },
  {
   "cell_type": "code",
   "execution_count": 22,
   "metadata": {},
   "outputs": [
    {
     "data": {
      "text/html": [
       "<div>\n",
       "<style scoped>\n",
       "    .dataframe tbody tr th:only-of-type {\n",
       "        vertical-align: middle;\n",
       "    }\n",
       "\n",
       "    .dataframe tbody tr th {\n",
       "        vertical-align: top;\n",
       "    }\n",
       "\n",
       "    .dataframe thead th {\n",
       "        text-align: right;\n",
       "    }\n",
       "</style>\n",
       "<table border=\"1\" class=\"dataframe\">\n",
       "  <thead>\n",
       "    <tr style=\"text-align: right;\">\n",
       "      <th></th>\n",
       "      <th>ID</th>\n",
       "      <th>Name</th>\n",
       "      <th>Image</th>\n",
       "    </tr>\n",
       "  </thead>\n",
       "  <tbody>\n",
       "    <tr>\n",
       "      <th>0</th>\n",
       "      <td>N1</td>\n",
       "      <td>Hoa Nguyen</td>\n",
       "      <td>Gau</td>\n",
       "    </tr>\n",
       "    <tr>\n",
       "      <th>1</th>\n",
       "      <td>N2</td>\n",
       "      <td>Education</td>\n",
       "      <td>education</td>\n",
       "    </tr>\n",
       "    <tr>\n",
       "      <th>2</th>\n",
       "      <td>N3</td>\n",
       "      <td>Luong The Vinh high school for the gifted</td>\n",
       "      <td>LTV</td>\n",
       "    </tr>\n",
       "    <tr>\n",
       "      <th>3</th>\n",
       "      <td>N4</td>\n",
       "      <td>University of Medicine and Pharmacy, Ho Chi Mi...</td>\n",
       "      <td>UMPHCM</td>\n",
       "    </tr>\n",
       "    <tr>\n",
       "      <th>4</th>\n",
       "      <td>N5</td>\n",
       "      <td>VietAI</td>\n",
       "      <td>VietAI</td>\n",
       "    </tr>\n",
       "    <tr>\n",
       "      <th>5</th>\n",
       "      <td>N6</td>\n",
       "      <td>Research Experience</td>\n",
       "      <td>research</td>\n",
       "    </tr>\n",
       "    <tr>\n",
       "      <th>6</th>\n",
       "      <td>N7</td>\n",
       "      <td>Online Research Club</td>\n",
       "      <td>ORC</td>\n",
       "    </tr>\n",
       "    <tr>\n",
       "      <th>7</th>\n",
       "      <td>N8</td>\n",
       "      <td>Working Experience</td>\n",
       "      <td>working</td>\n",
       "    </tr>\n",
       "    <tr>\n",
       "      <th>8</th>\n",
       "      <td>N9</td>\n",
       "      <td>Cao Thang Eye Hospital</td>\n",
       "      <td>CTEH</td>\n",
       "    </tr>\n",
       "    <tr>\n",
       "      <th>9</th>\n",
       "      <td>N10</td>\n",
       "      <td>Hobbies</td>\n",
       "      <td>hobby</td>\n",
       "    </tr>\n",
       "    <tr>\n",
       "      <th>10</th>\n",
       "      <td>N11</td>\n",
       "      <td>Playing musical instruments</td>\n",
       "      <td>piano</td>\n",
       "    </tr>\n",
       "    <tr>\n",
       "      <th>11</th>\n",
       "      <td>N12</td>\n",
       "      <td>Cycling</td>\n",
       "      <td>cycling</td>\n",
       "    </tr>\n",
       "    <tr>\n",
       "      <th>12</th>\n",
       "      <td>N13</td>\n",
       "      <td>Drawing</td>\n",
       "      <td>drawing</td>\n",
       "    </tr>\n",
       "    <tr>\n",
       "      <th>13</th>\n",
       "      <td>N14</td>\n",
       "      <td>Reading</td>\n",
       "      <td>reading</td>\n",
       "    </tr>\n",
       "  </tbody>\n",
       "</table>\n",
       "</div>"
      ],
      "text/plain": [
       "     ID                                               Name      Image\n",
       "0    N1                                         Hoa Nguyen        Gau\n",
       "1    N2                                          Education  education\n",
       "2    N3          Luong The Vinh high school for the gifted        LTV\n",
       "3    N4  University of Medicine and Pharmacy, Ho Chi Mi...     UMPHCM\n",
       "4    N5                                             VietAI     VietAI\n",
       "5    N6                                Research Experience   research\n",
       "6    N7                               Online Research Club        ORC\n",
       "7    N8                                 Working Experience    working\n",
       "8    N9                             Cao Thang Eye Hospital       CTEH\n",
       "9   N10                                            Hobbies      hobby\n",
       "10  N11                        Playing musical instruments      piano\n",
       "11  N12                                            Cycling    cycling\n",
       "12  N13                                            Drawing    drawing\n",
       "13  N14                                            Reading    reading"
      ]
     },
     "execution_count": 22,
     "metadata": {},
     "output_type": "execute_result"
    }
   ],
   "source": [
    "nodes"
   ]
  },
  {
   "cell_type": "code",
   "execution_count": 23,
   "metadata": {},
   "outputs": [
    {
     "data": {
      "text/html": [
       "<div>\n",
       "<style scoped>\n",
       "    .dataframe tbody tr th:only-of-type {\n",
       "        vertical-align: middle;\n",
       "    }\n",
       "\n",
       "    .dataframe tbody tr th {\n",
       "        vertical-align: top;\n",
       "    }\n",
       "\n",
       "    .dataframe thead th {\n",
       "        text-align: right;\n",
       "    }\n",
       "</style>\n",
       "<table border=\"1\" class=\"dataframe\">\n",
       "  <thead>\n",
       "    <tr style=\"text-align: right;\">\n",
       "      <th></th>\n",
       "      <th>ID</th>\n",
       "      <th>Arg1 ID</th>\n",
       "      <th>Arg2 ID</th>\n",
       "      <th>Color code</th>\n",
       "    </tr>\n",
       "  </thead>\n",
       "  <tbody>\n",
       "    <tr>\n",
       "      <th>0</th>\n",
       "      <td>E1</td>\n",
       "      <td>N1</td>\n",
       "      <td>N2</td>\n",
       "      <td>0B806C</td>\n",
       "    </tr>\n",
       "    <tr>\n",
       "      <th>1</th>\n",
       "      <td>E2</td>\n",
       "      <td>N2</td>\n",
       "      <td>N3</td>\n",
       "      <td>0B806C</td>\n",
       "    </tr>\n",
       "    <tr>\n",
       "      <th>2</th>\n",
       "      <td>E3</td>\n",
       "      <td>N2</td>\n",
       "      <td>N4</td>\n",
       "      <td>0B806C</td>\n",
       "    </tr>\n",
       "    <tr>\n",
       "      <th>3</th>\n",
       "      <td>E4</td>\n",
       "      <td>N2</td>\n",
       "      <td>N4</td>\n",
       "      <td>0B806C</td>\n",
       "    </tr>\n",
       "    <tr>\n",
       "      <th>4</th>\n",
       "      <td>E16</td>\n",
       "      <td>N2</td>\n",
       "      <td>N5</td>\n",
       "      <td>0B806C</td>\n",
       "    </tr>\n",
       "    <tr>\n",
       "      <th>5</th>\n",
       "      <td>E5</td>\n",
       "      <td>N1</td>\n",
       "      <td>N6</td>\n",
       "      <td>0B3080</td>\n",
       "    </tr>\n",
       "    <tr>\n",
       "      <th>6</th>\n",
       "      <td>E6</td>\n",
       "      <td>N6</td>\n",
       "      <td>N4</td>\n",
       "      <td>0B3080</td>\n",
       "    </tr>\n",
       "    <tr>\n",
       "      <th>7</th>\n",
       "      <td>E7</td>\n",
       "      <td>N6</td>\n",
       "      <td>N7</td>\n",
       "      <td>0B3080</td>\n",
       "    </tr>\n",
       "    <tr>\n",
       "      <th>8</th>\n",
       "      <td>E8</td>\n",
       "      <td>N1</td>\n",
       "      <td>N8</td>\n",
       "      <td>805B0B</td>\n",
       "    </tr>\n",
       "    <tr>\n",
       "      <th>9</th>\n",
       "      <td>E9</td>\n",
       "      <td>N8</td>\n",
       "      <td>N5</td>\n",
       "      <td>805B0B</td>\n",
       "    </tr>\n",
       "    <tr>\n",
       "      <th>10</th>\n",
       "      <td>E10</td>\n",
       "      <td>N8</td>\n",
       "      <td>N9</td>\n",
       "      <td>805B0B</td>\n",
       "    </tr>\n",
       "    <tr>\n",
       "      <th>11</th>\n",
       "      <td>E11</td>\n",
       "      <td>N1</td>\n",
       "      <td>N10</td>\n",
       "      <td>800B64</td>\n",
       "    </tr>\n",
       "    <tr>\n",
       "      <th>12</th>\n",
       "      <td>E12</td>\n",
       "      <td>N10</td>\n",
       "      <td>N11</td>\n",
       "      <td>800B64</td>\n",
       "    </tr>\n",
       "    <tr>\n",
       "      <th>13</th>\n",
       "      <td>E13</td>\n",
       "      <td>N10</td>\n",
       "      <td>N12</td>\n",
       "      <td>800B64</td>\n",
       "    </tr>\n",
       "    <tr>\n",
       "      <th>14</th>\n",
       "      <td>E14</td>\n",
       "      <td>N10</td>\n",
       "      <td>N13</td>\n",
       "      <td>800B64</td>\n",
       "    </tr>\n",
       "    <tr>\n",
       "      <th>15</th>\n",
       "      <td>E15</td>\n",
       "      <td>N10</td>\n",
       "      <td>N14</td>\n",
       "      <td>800B64</td>\n",
       "    </tr>\n",
       "  </tbody>\n",
       "</table>\n",
       "</div>"
      ],
      "text/plain": [
       "     ID Arg1 ID Arg2 ID Color code\n",
       "0    E1      N1      N2     0B806C\n",
       "1    E2      N2      N3     0B806C\n",
       "2    E3      N2      N4     0B806C\n",
       "3    E4      N2      N4     0B806C\n",
       "4   E16      N2      N5     0B806C\n",
       "5    E5      N1      N6     0B3080\n",
       "6    E6      N6      N4     0B3080\n",
       "7    E7      N6      N7     0B3080\n",
       "8    E8      N1      N8     805B0B\n",
       "9    E9      N8      N5     805B0B\n",
       "10  E10      N8      N9     805B0B\n",
       "11  E11      N1     N10     800B64\n",
       "12  E12     N10     N11     800B64\n",
       "13  E13     N10     N12     800B64\n",
       "14  E14     N10     N13     800B64\n",
       "15  E15     N10     N14     800B64"
      ]
     },
     "execution_count": 23,
     "metadata": {},
     "output_type": "execute_result"
    }
   ],
   "source": [
    "edges"
   ]
  },
  {
   "cell_type": "markdown",
   "metadata": {},
   "source": [
    "## 4. Exporting data\n",
    "\n",
    "You can save your pre-process data for future analysis."
   ]
  },
  {
   "cell_type": "code",
   "execution_count": 24,
   "metadata": {},
   "outputs": [],
   "source": [
    "nodes.to_csv(\"../output/nodes.tsv\", sep=\"\\t\")"
   ]
  },
  {
   "cell_type": "code",
   "execution_count": null,
   "metadata": {},
   "outputs": [],
   "source": []
  }
 ],
 "metadata": {
  "kernelspec": {
   "display_name": "Python 3",
   "language": "python",
   "name": "python3"
  },
  "language_info": {
   "codemirror_mode": {
    "name": "ipython",
    "version": 3
   },
   "file_extension": ".py",
   "mimetype": "text/x-python",
   "name": "python",
   "nbconvert_exporter": "python",
   "pygments_lexer": "ipython3",
   "version": "3.7.2"
  }
 },
 "nbformat": 4,
 "nbformat_minor": 2
}
