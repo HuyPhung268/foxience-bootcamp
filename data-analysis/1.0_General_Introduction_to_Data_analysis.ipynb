{
 "cells": [
  {
   "cell_type": "markdown",
   "metadata": {},
   "source": [
    "# \\[Demo\\] Lession 1: Data Analysis with Python\n",
    "\n",
    "This demo aims to give you an introduction of simple things that you can do to analyze the data with Python. Regularly, data analysis includes these steps:\n",
    "\n",
    "    (1) Loading/Importing data: from local or online\n",
    "    (2) Understanding the data: show the data, check data type\n",
    "    (3) Data wrangling\n",
    "    (4) Descriptive statistics\n",
    "    (5) Analytical statistics\n",
    "    (6) Exporting data\n",
    "\n",
    "Normally, after the data wrangling step, we should export the processed data for future uses. Data visualization is integrated in step (4) and (5). <br><br>\n",
    "In this demo, we walk through two topics:\n",
    "#### 1. Top 20 programming languages according to TIOBE Index\n",
    "- TIOBE Index is an organization that has created an index for programming languages and tracks the change of that index, every month.\n",
    "- Loading data from a package, pre-process data, visualize data\n",
    "\n",
    "To learn more: [visit this blog](https://towardsdatascience.com/visualize-programming-language-popularity-using-tiobeindexpy-f82c5a96400d)\n",
    "\n",
    "#### 2. Data of medications from ThongTinThuoc\n",
    "- Crawl data from ThongTinThuoc\n",
    "- Explore the data type\n"
   ]
  },
  {
   "cell_type": "markdown",
   "metadata": {},
   "source": [
    "## 1. Top 20 programming languages\n",
    "\n",
    "Purpose: Plot a chart of top 20 programming languages based on their ratings"
   ]
  },
  {
   "cell_type": "code",
   "execution_count": 1,
   "metadata": {},
   "outputs": [],
   "source": [
    "# IMPORT DEPENDENCIES\n",
    "from tiobeindexpy import tiobeindexpy as tbpy\n",
    "import seaborn as sns"
   ]
  },
  {
   "cell_type": "markdown",
   "metadata": {},
   "source": [
    "### Load data from the package"
   ]
  },
  {
   "cell_type": "code",
   "execution_count": 2,
   "metadata": {},
   "outputs": [
    {
     "name": "stdout",
     "output_type": "stream",
     "text": [
      "Type of the data: <class 'pandas.core.frame.DataFrame'>\n"
     ]
    },
    {
     "data": {
      "text/html": [
       "<div>\n",
       "<style scoped>\n",
       "    .dataframe tbody tr th:only-of-type {\n",
       "        vertical-align: middle;\n",
       "    }\n",
       "\n",
       "    .dataframe tbody tr th {\n",
       "        vertical-align: top;\n",
       "    }\n",
       "\n",
       "    .dataframe thead th {\n",
       "        text-align: right;\n",
       "    }\n",
       "</style>\n",
       "<table border=\"1\" class=\"dataframe\">\n",
       "  <thead>\n",
       "    <tr style=\"text-align: right;\">\n",
       "      <th></th>\n",
       "      <th>Nov 2019</th>\n",
       "      <th>Nov 2018</th>\n",
       "      <th>Change</th>\n",
       "      <th>Programming Language</th>\n",
       "      <th>Ratings</th>\n",
       "      <th>Change.1</th>\n",
       "    </tr>\n",
       "  </thead>\n",
       "  <tbody>\n",
       "    <tr>\n",
       "      <th>0</th>\n",
       "      <td>1</td>\n",
       "      <td>1</td>\n",
       "      <td>NaN</td>\n",
       "      <td>Java</td>\n",
       "      <td>16.246%</td>\n",
       "      <td>-0.50%</td>\n",
       "    </tr>\n",
       "    <tr>\n",
       "      <th>1</th>\n",
       "      <td>2</td>\n",
       "      <td>2</td>\n",
       "      <td>NaN</td>\n",
       "      <td>C</td>\n",
       "      <td>16.037%</td>\n",
       "      <td>+1.64%</td>\n",
       "    </tr>\n",
       "    <tr>\n",
       "      <th>2</th>\n",
       "      <td>3</td>\n",
       "      <td>4</td>\n",
       "      <td>NaN</td>\n",
       "      <td>Python</td>\n",
       "      <td>9.842%</td>\n",
       "      <td>+2.16%</td>\n",
       "    </tr>\n",
       "    <tr>\n",
       "      <th>3</th>\n",
       "      <td>4</td>\n",
       "      <td>3</td>\n",
       "      <td>NaN</td>\n",
       "      <td>C++</td>\n",
       "      <td>5.605%</td>\n",
       "      <td>-2.68%</td>\n",
       "    </tr>\n",
       "    <tr>\n",
       "      <th>4</th>\n",
       "      <td>5</td>\n",
       "      <td>6</td>\n",
       "      <td>NaN</td>\n",
       "      <td>C#</td>\n",
       "      <td>4.316%</td>\n",
       "      <td>+0.36%</td>\n",
       "    </tr>\n",
       "  </tbody>\n",
       "</table>\n",
       "</div>"
      ],
      "text/plain": [
       "   Nov 2019  Nov 2018  Change Programming Language  Ratings Change.1\n",
       "0         1         1     NaN                 Java  16.246%   -0.50%\n",
       "1         2         2     NaN                    C  16.037%   +1.64%\n",
       "2         3         4     NaN               Python   9.842%   +2.16%\n",
       "3         4         3     NaN                  C++   5.605%   -2.68%\n",
       "4         5         6     NaN                   C#   4.316%   +0.36%"
      ]
     },
     "execution_count": 2,
     "metadata": {},
     "output_type": "execute_result"
    }
   ],
   "source": [
    "top_20 = tbpy.top_20()\n",
    "# Data type\n",
    "print('Type of the data: %s' % type(top_20))\n",
    "top_20.head() # Show the first 5 rows in the data"
   ]
  },
  {
   "cell_type": "code",
   "execution_count": 3,
   "metadata": {},
   "outputs": [
    {
     "data": {
      "text/html": [
       "<div>\n",
       "<style scoped>\n",
       "    .dataframe tbody tr th:only-of-type {\n",
       "        vertical-align: middle;\n",
       "    }\n",
       "\n",
       "    .dataframe tbody tr th {\n",
       "        vertical-align: top;\n",
       "    }\n",
       "\n",
       "    .dataframe thead th {\n",
       "        text-align: right;\n",
       "    }\n",
       "</style>\n",
       "<table border=\"1\" class=\"dataframe\">\n",
       "  <thead>\n",
       "    <tr style=\"text-align: right;\">\n",
       "      <th></th>\n",
       "      <th>Nov 2019</th>\n",
       "      <th>Nov 2018</th>\n",
       "      <th>Change</th>\n",
       "      <th>Programming Language</th>\n",
       "      <th>Ratings</th>\n",
       "      <th>Change.1</th>\n",
       "    </tr>\n",
       "  </thead>\n",
       "  <tbody>\n",
       "    <tr>\n",
       "      <th>0</th>\n",
       "      <td>1</td>\n",
       "      <td>1</td>\n",
       "      <td>NaN</td>\n",
       "      <td>Java</td>\n",
       "      <td>16.246%</td>\n",
       "      <td>-0.50%</td>\n",
       "    </tr>\n",
       "    <tr>\n",
       "      <th>1</th>\n",
       "      <td>2</td>\n",
       "      <td>2</td>\n",
       "      <td>NaN</td>\n",
       "      <td>C</td>\n",
       "      <td>16.037%</td>\n",
       "      <td>+1.64%</td>\n",
       "    </tr>\n",
       "    <tr>\n",
       "      <th>2</th>\n",
       "      <td>3</td>\n",
       "      <td>4</td>\n",
       "      <td>NaN</td>\n",
       "      <td>Python</td>\n",
       "      <td>9.842%</td>\n",
       "      <td>+2.16%</td>\n",
       "    </tr>\n",
       "    <tr>\n",
       "      <th>3</th>\n",
       "      <td>4</td>\n",
       "      <td>3</td>\n",
       "      <td>NaN</td>\n",
       "      <td>C++</td>\n",
       "      <td>5.605%</td>\n",
       "      <td>-2.68%</td>\n",
       "    </tr>\n",
       "    <tr>\n",
       "      <th>4</th>\n",
       "      <td>5</td>\n",
       "      <td>6</td>\n",
       "      <td>NaN</td>\n",
       "      <td>C#</td>\n",
       "      <td>4.316%</td>\n",
       "      <td>+0.36%</td>\n",
       "    </tr>\n",
       "    <tr>\n",
       "      <th>5</th>\n",
       "      <td>6</td>\n",
       "      <td>5</td>\n",
       "      <td>NaN</td>\n",
       "      <td>Visual Basic .NET</td>\n",
       "      <td>4.229%</td>\n",
       "      <td>-2.26%</td>\n",
       "    </tr>\n",
       "    <tr>\n",
       "      <th>6</th>\n",
       "      <td>7</td>\n",
       "      <td>7</td>\n",
       "      <td>NaN</td>\n",
       "      <td>JavaScript</td>\n",
       "      <td>1.929%</td>\n",
       "      <td>-0.73%</td>\n",
       "    </tr>\n",
       "    <tr>\n",
       "      <th>7</th>\n",
       "      <td>8</td>\n",
       "      <td>8</td>\n",
       "      <td>NaN</td>\n",
       "      <td>PHP</td>\n",
       "      <td>1.720%</td>\n",
       "      <td>-0.66%</td>\n",
       "    </tr>\n",
       "    <tr>\n",
       "      <th>8</th>\n",
       "      <td>9</td>\n",
       "      <td>9</td>\n",
       "      <td>NaN</td>\n",
       "      <td>SQL</td>\n",
       "      <td>1.690%</td>\n",
       "      <td>-0.15%</td>\n",
       "    </tr>\n",
       "    <tr>\n",
       "      <th>9</th>\n",
       "      <td>10</td>\n",
       "      <td>12</td>\n",
       "      <td>NaN</td>\n",
       "      <td>Swift</td>\n",
       "      <td>1.653%</td>\n",
       "      <td>+0.20%</td>\n",
       "    </tr>\n",
       "    <tr>\n",
       "      <th>10</th>\n",
       "      <td>11</td>\n",
       "      <td>16</td>\n",
       "      <td>NaN</td>\n",
       "      <td>Ruby</td>\n",
       "      <td>1.261%</td>\n",
       "      <td>+0.17%</td>\n",
       "    </tr>\n",
       "    <tr>\n",
       "      <th>11</th>\n",
       "      <td>12</td>\n",
       "      <td>11</td>\n",
       "      <td>NaN</td>\n",
       "      <td>Objective-C</td>\n",
       "      <td>1.195%</td>\n",
       "      <td>-0.28%</td>\n",
       "    </tr>\n",
       "    <tr>\n",
       "      <th>12</th>\n",
       "      <td>13</td>\n",
       "      <td>13</td>\n",
       "      <td>NaN</td>\n",
       "      <td>Delphi/Object Pascal</td>\n",
       "      <td>1.142%</td>\n",
       "      <td>-0.28%</td>\n",
       "    </tr>\n",
       "    <tr>\n",
       "      <th>13</th>\n",
       "      <td>14</td>\n",
       "      <td>25</td>\n",
       "      <td>NaN</td>\n",
       "      <td>Groovy</td>\n",
       "      <td>1.099%</td>\n",
       "      <td>+0.50%</td>\n",
       "    </tr>\n",
       "    <tr>\n",
       "      <th>14</th>\n",
       "      <td>15</td>\n",
       "      <td>15</td>\n",
       "      <td>NaN</td>\n",
       "      <td>Assembly language</td>\n",
       "      <td>1.022%</td>\n",
       "      <td>-0.09%</td>\n",
       "    </tr>\n",
       "    <tr>\n",
       "      <th>15</th>\n",
       "      <td>16</td>\n",
       "      <td>14</td>\n",
       "      <td>NaN</td>\n",
       "      <td>R</td>\n",
       "      <td>0.980%</td>\n",
       "      <td>-0.43%</td>\n",
       "    </tr>\n",
       "    <tr>\n",
       "      <th>16</th>\n",
       "      <td>17</td>\n",
       "      <td>20</td>\n",
       "      <td>NaN</td>\n",
       "      <td>Visual Basic</td>\n",
       "      <td>0.957%</td>\n",
       "      <td>+0.10%</td>\n",
       "    </tr>\n",
       "    <tr>\n",
       "      <th>17</th>\n",
       "      <td>18</td>\n",
       "      <td>23</td>\n",
       "      <td>NaN</td>\n",
       "      <td>D</td>\n",
       "      <td>0.927%</td>\n",
       "      <td>+0.25%</td>\n",
       "    </tr>\n",
       "    <tr>\n",
       "      <th>18</th>\n",
       "      <td>19</td>\n",
       "      <td>17</td>\n",
       "      <td>NaN</td>\n",
       "      <td>MATLAB</td>\n",
       "      <td>0.890%</td>\n",
       "      <td>-0.14%</td>\n",
       "    </tr>\n",
       "    <tr>\n",
       "      <th>19</th>\n",
       "      <td>20</td>\n",
       "      <td>10</td>\n",
       "      <td>NaN</td>\n",
       "      <td>Go</td>\n",
       "      <td>0.853%</td>\n",
       "      <td>-0.64%</td>\n",
       "    </tr>\n",
       "  </tbody>\n",
       "</table>\n",
       "</div>"
      ],
      "text/plain": [
       "    Nov 2019  Nov 2018  Change  Programming Language  Ratings Change.1\n",
       "0          1         1     NaN                  Java  16.246%   -0.50%\n",
       "1          2         2     NaN                     C  16.037%   +1.64%\n",
       "2          3         4     NaN                Python   9.842%   +2.16%\n",
       "3          4         3     NaN                   C++   5.605%   -2.68%\n",
       "4          5         6     NaN                    C#   4.316%   +0.36%\n",
       "5          6         5     NaN     Visual Basic .NET   4.229%   -2.26%\n",
       "6          7         7     NaN            JavaScript   1.929%   -0.73%\n",
       "7          8         8     NaN                   PHP   1.720%   -0.66%\n",
       "8          9         9     NaN                   SQL   1.690%   -0.15%\n",
       "9         10        12     NaN                 Swift   1.653%   +0.20%\n",
       "10        11        16     NaN                  Ruby   1.261%   +0.17%\n",
       "11        12        11     NaN           Objective-C   1.195%   -0.28%\n",
       "12        13        13     NaN  Delphi/Object Pascal   1.142%   -0.28%\n",
       "13        14        25     NaN                Groovy   1.099%   +0.50%\n",
       "14        15        15     NaN     Assembly language   1.022%   -0.09%\n",
       "15        16        14     NaN                     R   0.980%   -0.43%\n",
       "16        17        20     NaN          Visual Basic   0.957%   +0.10%\n",
       "17        18        23     NaN                     D   0.927%   +0.25%\n",
       "18        19        17     NaN                MATLAB   0.890%   -0.14%\n",
       "19        20        10     NaN                    Go   0.853%   -0.64%"
      ]
     },
     "execution_count": 3,
     "metadata": {},
     "output_type": "execute_result"
    }
   ],
   "source": [
    "top_20 # Show all data"
   ]
  },
  {
   "cell_type": "markdown",
   "metadata": {},
   "source": [
    "### Data pre-processing"
   ]
  },
  {
   "cell_type": "code",
   "execution_count": 4,
   "metadata": {},
   "outputs": [
    {
     "name": "stdout",
     "output_type": "stream",
     "text": [
      "Data type of Programming Language column: <class 'str'>\n",
      "Data type of Ratings: <class 'str'>\n"
     ]
    }
   ],
   "source": [
    "# Observe data type of two two interest fields: \"Programming Language\" and \"Ratings\"\n",
    "print(\"Data type of Programming Language column: %s\" % type(top_20[\"Programming Language\"][0]))\n",
    "print(\"Data type of Ratings: %s\" % type(top_20[\"Ratings\"][0]))"
   ]
  },
  {
   "cell_type": "markdown",
   "metadata": {},
   "source": [
    "Ratings should be ***float*** so we need to strip ***%*** and change the data type to float."
   ]
  },
  {
   "cell_type": "code",
   "execution_count": 5,
   "metadata": {},
   "outputs": [
    {
     "data": {
      "text/plain": [
       "numpy.float64"
      ]
     },
     "execution_count": 5,
     "metadata": {},
     "output_type": "execute_result"
    }
   ],
   "source": [
    "top_20[\"Ratings\"] = top_20[\"Ratings\"].str.strip(\"%\").astype(\"float\")\n",
    "# Re-check the data type\n",
    "type(top_20[\"Ratings\"][0])"
   ]
  },
  {
   "cell_type": "markdown",
   "metadata": {},
   "source": [
    "### Data visualization"
   ]
  },
  {
   "cell_type": "code",
   "execution_count": 6,
   "metadata": {},
   "outputs": [
    {
     "data": {
      "text/plain": [
       "Text(0.5, 1.0, 'November 2019 - Programming Popularity')"
      ]
     },
     "execution_count": 6,
     "metadata": {},
     "output_type": "execute_result"
    },
    {
     "data": {
      "image/png": "[encoded data removed]",
      "text/plain": [
       "<Figure size 842.4x595.44 with 1 Axes>"
      ]
     },
     "metadata": {},
     "output_type": "display_data"
    }
   ],
   "source": [
    "sns.set(style = \"whitegrid\")\n",
    "sns.set(rc={'figure.figsize':(11.7,8.27)})\n",
    "sns.barplot('Ratings', 'Programming Language', data = top_20).set_title('November 2019 - Programming Popularity')"
   ]
  },
  {
   "cell_type": "markdown",
   "metadata": {},
   "source": [
    "## 2. Data of medications from ThongTinThuoc"
   ]
  },
  {
   "cell_type": "code",
   "execution_count": 7,
   "metadata": {},
   "outputs": [],
   "source": [
    "# IMPORT DEPENDENCIES\n",
    "import pandas as pd\n",
    "import matplotlib.pyplot as plt\n",
    "\n",
    "from thongtinthuoc import Thongtinthuoc\n",
    "T3 = Thongtinthuoc(']sFwDb8;$Zp0TpK3:k@JIZe0C=7BO7')"
   ]
  },
  {
   "cell_type": "markdown",
   "metadata": {},
   "source": [
    "### Load data"
   ]
  },
  {
   "cell_type": "code",
   "execution_count": 8,
   "metadata": {},
   "outputs": [],
   "source": [
    "drugs = ['Insulin', 'Pramlintide', 'Acarbose', 'Miglitol', 'Metformin', 'Glipizide', 'Gliclazide']\n",
    "results = []\n",
    "for drug in drugs:\n",
    "    drug_info = T3.search('bietduoc', drug)\n",
    "    for bietduoc in drug_info.data:\n",
    "        result = {}\n",
    "        try:\n",
    "            bietduoc_set = bietduoc.bietduochoatchat_set[0]\n",
    "            for k, v in bietduoc_set.items():\n",
    "                result[k] = v\n",
    "        except: continue\n",
    "        try: result['ctysx_name'] = bietduoc.ctysx_name\n",
    "        except: result['ctysx_name'] = \"\"\n",
    "        try: result['nuoc_sx_id'] = bietduoc.nuoc_sx_id\n",
    "        except: result['nuoc_sx_id'] = \"\"\n",
    "        results.append(result)"
   ]
  },
  {
   "cell_type": "code",
   "execution_count": 9,
   "metadata": {},
   "outputs": [
    {
     "data": {
      "text/html": [
       "<div>\n",
       "<style scoped>\n",
       "    .dataframe tbody tr th:only-of-type {\n",
       "        vertical-align: middle;\n",
       "    }\n",
       "\n",
       "    .dataframe tbody tr th {\n",
       "        vertical-align: top;\n",
       "    }\n",
       "\n",
       "    .dataframe thead th {\n",
       "        text-align: right;\n",
       "    }\n",
       "</style>\n",
       "<table border=\"1\" class=\"dataframe\">\n",
       "  <thead>\n",
       "    <tr style=\"text-align: right;\">\n",
       "      <th></th>\n",
       "      <th>Name</th>\n",
       "      <th>Content</th>\n",
       "      <th>Unit</th>\n",
       "      <th>Manufacturer</th>\n",
       "      <th>Country</th>\n",
       "    </tr>\n",
       "  </thead>\n",
       "  <tbody>\n",
       "    <tr>\n",
       "      <th>0</th>\n",
       "      <td>INSULIN HUMAN</td>\n",
       "      <td>100</td>\n",
       "      <td>đơn vị insulin/ml</td>\n",
       "      <td>[Eli Lilly &amp; Company]</td>\n",
       "      <td>USA</td>\n",
       "    </tr>\n",
       "    <tr>\n",
       "      <th>1</th>\n",
       "      <td>INSULIN GLARGINE</td>\n",
       "      <td>100</td>\n",
       "      <td>IU</td>\n",
       "      <td>[Wockhardt Limited]</td>\n",
       "      <td>IND</td>\n",
       "    </tr>\n",
       "    <tr>\n",
       "      <th>2</th>\n",
       "      <td>INSULIN GLARGINE</td>\n",
       "      <td>300</td>\n",
       "      <td>IU</td>\n",
       "      <td>[sanofi-aventis Deutschland GmbH]</td>\n",
       "      <td>DEU</td>\n",
       "    </tr>\n",
       "    <tr>\n",
       "      <th>3</th>\n",
       "      <td>INSULIN HUMAN</td>\n",
       "      <td>8</td>\n",
       "      <td>42005.0</td>\n",
       "      <td></td>\n",
       "      <td></td>\n",
       "    </tr>\n",
       "    <tr>\n",
       "      <th>4</th>\n",
       "      <td>INSULIN HUMAN</td>\n",
       "      <td>400</td>\n",
       "      <td>IU</td>\n",
       "      <td>[M.J. Biopharm Pvt., Ltd]</td>\n",
       "      <td>IND</td>\n",
       "    </tr>\n",
       "  </tbody>\n",
       "</table>\n",
       "</div>"
      ],
      "text/plain": [
       "               Name Content               Unit  \\\n",
       "0     INSULIN HUMAN     100  đơn vị insulin/ml   \n",
       "1  INSULIN GLARGINE     100                 IU   \n",
       "2  INSULIN GLARGINE     300                 IU   \n",
       "3     INSULIN HUMAN       8            42005.0   \n",
       "4     INSULIN HUMAN     400                 IU   \n",
       "\n",
       "                        Manufacturer Country  \n",
       "0              [Eli Lilly & Company]     USA  \n",
       "1                [Wockhardt Limited]     IND  \n",
       "2  [sanofi-aventis Deutschland GmbH]     DEU  \n",
       "3                                             \n",
       "4          [M.J. Biopharm Pvt., Ltd]     IND  "
      ]
     },
     "execution_count": 9,
     "metadata": {},
     "output_type": "execute_result"
    }
   ],
   "source": [
    "data = pd.io.json.json_normalize(results)\n",
    "interested_fields = ['hoatchat_name', 'ham_luong', 'don_vi', 'ctysx_name', 'nuoc_sx_id']\n",
    "data = data[interested_fields]\n",
    "data.columns = [\"Name\", \"Content\", \"Unit\", 'Manufacturer', 'Country']\n",
    "data.head()"
   ]
  },
  {
   "cell_type": "markdown",
   "metadata": {},
   "source": [
    "### Analysis"
   ]
  },
  {
   "cell_type": "markdown",
   "metadata": {},
   "source": [
    "#### 1. How many medications were queried?"
   ]
  },
  {
   "cell_type": "code",
   "execution_count": 10,
   "metadata": {},
   "outputs": [
    {
     "data": {
      "text/plain": [
       "64"
      ]
     },
     "execution_count": 10,
     "metadata": {},
     "output_type": "execute_result"
    }
   ],
   "source": [
    "len(data)"
   ]
  },
  {
   "cell_type": "markdown",
   "metadata": {},
   "source": [
    "#### 2. How many products for each active ingredient?"
   ]
  },
  {
   "cell_type": "code",
   "execution_count": 11,
   "metadata": {},
   "outputs": [
    {
     "data": {
      "text/plain": [
       "ACARBOSE                   12\n",
       "GLIPIZIDE                  12\n",
       "METFORMIN HYDROCHLORIDE    11\n",
       "GLICLAZIDE                 10\n",
       "INSULIN GLARGINE            5\n",
       "INSULIN HUMAN               4\n",
       "MIGLITOL                    3\n",
       "PRAMLINTIDE ACETATE         3\n",
       "INSULIN LISPRO              1\n",
       "INSULIN ASPART              1\n",
       "INSULIN GLULISINE           1\n",
       "METFORMIN                   1\n",
       "Name: Name, dtype: int64"
      ]
     },
     "execution_count": 11,
     "metadata": {},
     "output_type": "execute_result"
    }
   ],
   "source": [
    "data[\"Name\"].value_counts()"
   ]
  },
  {
   "cell_type": "markdown",
   "metadata": {},
   "source": [
    "#### 3. How many medications have manufacturer information?"
   ]
  },
  {
   "cell_type": "code",
   "execution_count": 12,
   "metadata": {},
   "outputs": [
    {
     "data": {
      "text/plain": [
       "29"
      ]
     },
     "execution_count": 12,
     "metadata": {},
     "output_type": "execute_result"
    }
   ],
   "source": [
    "manufacturer = data[data[\"Manufacturer\"]!=\"\"]\n",
    "len(manufacturer)"
   ]
  },
  {
   "cell_type": "markdown",
   "metadata": {},
   "source": [
    "#### 4. How many products of each manufacturer?"
   ]
  },
  {
   "cell_type": "code",
   "execution_count": 13,
   "metadata": {},
   "outputs": [
    {
     "data": {
      "text/plain": [
       "[Pharbaco, Công ty cổ phần dược phẩm trung ương 1 - Pharbaco.]    3\n",
       "[sanofi-aventis Deutschland GmbH]                                 3\n",
       "[Dược phẩm 3/2., Công ty cổ phần Dược phẩm 3/2.]                  3\n",
       "[Dược phẩm TV. Pharm, Công ty cổ phần dược phẩm TV. Pharm]        2\n",
       "[Tipharco, Công ty cổ phần dược phẩm Tipharco]                    2\n",
       "[Dược phẩm Euvipharm, Công ty cổ phần Dược phẩm Euvipharm]        2\n",
       "[Novo Nordisk A/S]                                                1\n",
       "[Công ty TNHH United Pharma Việt Nam]                             1\n",
       "[NIC Pharma, Công ty TNHH SX-TM dược phẩm NIC (NIC Pharma)]       1\n",
       "[Vacopharm, Công ty cổ phần dược Vacopharm]                       1\n",
       "[Công ty TNHH Nam Dược]                                           1\n",
       "[Vacopharm, Công ty cổ phần dược Vacopharm.]                      1\n",
       "[Stada - Việt Nam, Công ty TNHH LD Stada - Việt Nam]              1\n",
       "[Wockhardt Limited]                                               1\n",
       "[Domesco, Công ty cổ phần xuất nhập khẩu y tế Domesco]            1\n",
       "[Eli Lilly & Company]                                             1\n",
       "[Synmosa Biopharma Corporation]                                   1\n",
       "[M.J. Biopharm Pvt., Ltd]                                         1\n",
       "[Glomed, Công ty cổ phần dược phẩm Glomed]                        1\n",
       "[Dược phẩm Sao Kim, Công ty cổ phần dược phẩm Sao Kim]            1\n",
       "Name: Manufacturer, dtype: int64"
      ]
     },
     "execution_count": 13,
     "metadata": {},
     "output_type": "execute_result"
    }
   ],
   "source": [
    "manufacturer[\"Manufacturer\"].value_counts()"
   ]
  },
  {
   "cell_type": "markdown",
   "metadata": {},
   "source": [
    "#### 5. Country of origin"
   ]
  },
  {
   "cell_type": "code",
   "execution_count": 14,
   "metadata": {},
   "outputs": [
    {
     "data": {
      "text/html": [
       "<div>\n",
       "<style scoped>\n",
       "    .dataframe tbody tr th:only-of-type {\n",
       "        vertical-align: middle;\n",
       "    }\n",
       "\n",
       "    .dataframe tbody tr th {\n",
       "        vertical-align: top;\n",
       "    }\n",
       "\n",
       "    .dataframe thead th {\n",
       "        text-align: right;\n",
       "    }\n",
       "</style>\n",
       "<table border=\"1\" class=\"dataframe\">\n",
       "  <thead>\n",
       "    <tr style=\"text-align: right;\">\n",
       "      <th></th>\n",
       "      <th>Country</th>\n",
       "      <th>Count</th>\n",
       "    </tr>\n",
       "  </thead>\n",
       "  <tbody>\n",
       "    <tr>\n",
       "      <th>0</th>\n",
       "      <td>VNM</td>\n",
       "      <td>21</td>\n",
       "    </tr>\n",
       "    <tr>\n",
       "      <th>1</th>\n",
       "      <td>DEU</td>\n",
       "      <td>3</td>\n",
       "    </tr>\n",
       "    <tr>\n",
       "      <th>2</th>\n",
       "      <td>IND</td>\n",
       "      <td>2</td>\n",
       "    </tr>\n",
       "    <tr>\n",
       "      <th>3</th>\n",
       "      <td>TWN</td>\n",
       "      <td>1</td>\n",
       "    </tr>\n",
       "    <tr>\n",
       "      <th>4</th>\n",
       "      <td>USA</td>\n",
       "      <td>1</td>\n",
       "    </tr>\n",
       "    <tr>\n",
       "      <th>5</th>\n",
       "      <td>DNK</td>\n",
       "      <td>1</td>\n",
       "    </tr>\n",
       "  </tbody>\n",
       "</table>\n",
       "</div>"
      ],
      "text/plain": [
       "  Country  Count\n",
       "0     VNM     21\n",
       "1     DEU      3\n",
       "2     IND      2\n",
       "3     TWN      1\n",
       "4     USA      1\n",
       "5     DNK      1"
      ]
     },
     "execution_count": 14,
     "metadata": {},
     "output_type": "execute_result"
    }
   ],
   "source": [
    "origin = pd.DataFrame(manufacturer[\"Country\"].value_counts()).reset_index()\n",
    "origin.columns = [\"Country\", \"Count\"]\n",
    "origin"
   ]
  },
  {
   "cell_type": "code",
   "execution_count": 18,
   "metadata": {},
   "outputs": [
    {
     "data": {
      "image/png": "[encoded data removed]",
      "text/plain": [
       "<Figure size 842.4x595.44 with 1 Axes>"
      ]
     },
     "metadata": {},
     "output_type": "display_data"
    }
   ],
   "source": [
    "# Let's visualize these number with pie chart\n",
    "labels = origin.Country\n",
    "sizes = origin.Count\n",
    "colors = ['#ff9999','#66b3ff','#99ff99','#ffcc99', \"#F3F310\", \"#F38F10\"]\n",
    "explode = (0.05,0.05,0.05,0.05, 0.05, 0.05)\n",
    "plt.pie(sizes, colors = colors, labels=labels, autopct='%1.1f%%', startangle=90,\n",
    "         pctdistance=0.85, explode = explode)\n",
    "plt.show()"
   ]
  },
  {
   "cell_type": "code",
   "execution_count": null,
   "metadata": {},
   "outputs": [],
   "source": []
  }
 ],
 "metadata": {
  "kernelspec": {
   "display_name": "Python 3",
   "language": "python",
   "name": "python3"
  },
  "language_info": {
   "codemirror_mode": {
    "name": "ipython",
    "version": 3
   },
   "file_extension": ".py",
   "mimetype": "text/x-python",
   "name": "python",
   "nbconvert_exporter": "python",
   "pygments_lexer": "ipython3",
   "version": "3.7.2"
  }
 },
 "nbformat": 4,
 "nbformat_minor": 2
}
