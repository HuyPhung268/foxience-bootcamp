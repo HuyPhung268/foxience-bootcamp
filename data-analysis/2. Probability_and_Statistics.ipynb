{
 "cells": [
  {
   "cell_type": "markdown",
   "metadata": {
    "hideCode": true,
    "hidePrompt": true
   },
   "source": [
    "# Lesson 2: Probability and Statistics (Part I)\n",
    "\n",
    "### Contents:\n",
    "1. Factorials, Binomial coefficients (Combination), and Permutation\n",
    "2. Sampling and Simulation\n",
    "3. Matching problem simulation\n",
    "4. Birthday problem calculation and simulation\n",
    "\n",
    "### References:\n",
    "\n",
    "(1) Introduction to Probability, *Blitzstein & Hwang*"
   ]
  },
  {
   "cell_type": "code",
   "execution_count": 1,
   "metadata": {
    "hideCode": true,
    "hidePrompt": true
   },
   "outputs": [],
   "source": [
    "# DEPENDENCIES\n",
    "import ipywidgets as widgets\n",
    "import seaborn as sns\n",
    "import pandas as pd\n",
    "import numpy as np\n",
    "import matplotlib.pyplot as plt\n",
    "from IPython.display import display"
   ]
  },
  {
   "cell_type": "markdown",
   "metadata": {
    "hideCode": true,
    "hidePrompt": true
   },
   "source": [
    "## 1. Factorials and Binomial coefficients\n",
    "As introduced in the \"Counting Rules\" part, factorial of a number, combination, and permutation are often calculated. ***Scipy*** package supports these calculation. To use these functions, you should import them as below."
   ]
  },
  {
   "cell_type": "code",
   "execution_count": 2,
   "metadata": {
    "hideCode": true,
    "hidePrompt": true
   },
   "outputs": [],
   "source": [
    "from scipy.special import factorial, comb, perm\n",
    "import numpy as np"
   ]
  },
  {
   "cell_type": "code",
   "execution_count": 3,
   "metadata": {
    "hideCode": true,
    "hidePrompt": true
   },
   "outputs": [],
   "source": [
    "# Samples\n",
    "n = 1000\n",
    "k = 7\n",
    "n_arr = np.array([4,6,7])\n",
    "k_arr = np.array([2,3,4])"
   ]
  },
  {
   "cell_type": "markdown",
   "metadata": {
    "hideCode": true,
    "hidePrompt": true
   },
   "source": [
    "### Factorials\n",
    "The factorial function in *scipy* can calculate factorials of an *int* or an *array-like of ints* "
   ]
  },
  {
   "cell_type": "code",
   "execution_count": 4,
   "metadata": {
    "hideCode": true,
    "hidePrompt": true
   },
   "outputs": [
    {
     "name": "stdout",
     "output_type": "stream",
     "text": [
      "80.6 µs ± 5.04 µs per loop (mean ± std. dev. of 7 runs, 1000 loops each)\n"
     ]
    }
   ],
   "source": [
    "%%timeit -n 1000\n",
    "# factorial of an integer\n",
    "# using long integer arithmetic\n",
    "factorial(n, exact=True)"
   ]
  },
  {
   "cell_type": "code",
   "execution_count": 5,
   "metadata": {
    "hideCode": true,
    "hidePrompt": true
   },
   "outputs": [
    {
     "name": "stdout",
     "output_type": "stream",
     "text": [
      "14.4 µs ± 1.39 µs per loop (mean ± std. dev. of 7 runs, 1000 loops each)\n"
     ]
    }
   ],
   "source": [
    "%%timeit -n 1000\n",
    "# factorial of an integer\n",
    "# approximated in floating point rapidly using the gamma function\n",
    "factorial(n, exact=False)"
   ]
  },
  {
   "cell_type": "code",
   "execution_count": 6,
   "metadata": {
    "hideCode": true,
    "hidePrompt": true
   },
   "outputs": [
    {
     "data": {
      "text/plain": [
       "402387260077093773543702433923003985719374864210714632543799910429938512398629020592044208486969404800479988610197196058631666872994808558901323829669944590997424504087073759918823627727188732519779505950995276120874975462497043601418278094646496291056393887437886487337119181045825783647849977012476632889835955735432513185323958463075557409114262417474349347553428646576611667797396668820291207379143853719588249808126867838374559731746136085379534524221586593201928090878297308431392844403281231558611036976801357304216168747609675871348312025478589320767169132448426236131412508780208000261683151027341827977704784635868170164365024153691398281264810213092761244896359928705114964975419909342221566832572080821333186116811553615836546984046708975602900950537616475847728421889679646244945160765353408198901385442487984959953319101723355556602139450399736280750137837615307127761926849034352625200015888535147331611702103968175921510907788019393178114194545257223865541461062892187960223838971476088506276862967146674697562911234082439208160153780889893964518263243671616762179168909779911903754031274622289988005195444414282012187361745992642956581746628302955570299024324153181617210465832036786906117260158783520751516284225540265170483304226143974286933061690897968482590125458327168226458066526769958652682272807075781391858178889652208164348344825993266043367660176999612831860788386150279465955131156552036093988180612138558600301435694527224206344631797460594682573103790084024432438465657245014402821885252470935190620929023136493273497565513958720559654228749774011413346962715422845862377387538230483865688976461927383814900140767310446640259899490222221765904339901886018566526485061799702356193897017860040811889729918311021171229845901641921068884387121855646124960798722908519296819372388642614839657382291123125024186649353143970137428531926649875337218940694281434118520158014123344828015051399694290153483077644569099073152433278288269864602789864321139083506217095002597389863554277196742822248757586765752344220207573630569498825087968928162753848863396909959826280956121450994871701244516461260379029309120889086942028510640182154399457156805941872748998094254742173582401063677404595741785160829230135358081840096996372524230560855903700624271243416909004153690105933983835777939410970027753472000000000000000000000000000000000000000000000000000000000000000000000000000000000000000000000000000000000000000000000000000000000000000000000000000000000000000000000000000000000000000000000000000000000000000000000000000000000000000000000000000000000"
      ]
     },
     "execution_count": 6,
     "metadata": {},
     "output_type": "execute_result"
    }
   ],
   "source": [
    "factorial(n, exact=True)"
   ]
  },
  {
   "cell_type": "code",
   "execution_count": 7,
   "metadata": {
    "hideCode": true,
    "hidePrompt": true
   },
   "outputs": [
    {
     "data": {
      "text/plain": [
       "array([  24,  720, 5040])"
      ]
     },
     "execution_count": 7,
     "metadata": {},
     "output_type": "execute_result"
    }
   ],
   "source": [
    "factorial(n_arr, exact=True)"
   ]
  },
  {
   "cell_type": "markdown",
   "metadata": {
    "hideCode": true,
    "hidePrompt": true
   },
   "source": [
    "Define the factorial function yourself and calculate its execution time:"
   ]
  },
  {
   "cell_type": "code",
   "execution_count": 8,
   "metadata": {
    "hideCode": true,
    "hidePrompt": true
   },
   "outputs": [
    {
     "data": {
      "text/plain": [
       "120"
      ]
     },
     "execution_count": 8,
     "metadata": {},
     "output_type": "execute_result"
    }
   ],
   "source": [
    "# Your work\n",
    "def dev_factorial(n):\n",
    "    f = 1\n",
    "    if n == 0:\n",
    "        f = 1\n",
    "    else:\n",
    "        for i in range (2,n+1):\n",
    "            f=f*i\n",
    "    return f\n",
    "dev_factorial(5)"
   ]
  },
  {
   "cell_type": "code",
   "execution_count": 9,
   "metadata": {
    "hideCode": true,
    "hidePrompt": true
   },
   "outputs": [
    {
     "name": "stdout",
     "output_type": "stream",
     "text": [
      "512 µs ± 10.2 µs per loop (mean ± std. dev. of 7 runs, 1000 loops each)\n"
     ]
    }
   ],
   "source": [
    "%%timeit -n 1000\n",
    "dev_factorial(n)"
   ]
  },
  {
   "cell_type": "markdown",
   "metadata": {
    "hideCode": true,
    "hidePrompt": true
   },
   "source": [
    "### Combination"
   ]
  },
  {
   "cell_type": "code",
   "execution_count": 10,
   "metadata": {
    "hideCode": true,
    "hidePrompt": true
   },
   "outputs": [
    {
     "name": "stdout",
     "output_type": "stream",
     "text": [
      "11.7 µs ± 1.6 µs per loop (mean ± std. dev. of 7 runs, 1000 loops each)\n"
     ]
    }
   ],
   "source": [
    "%%timeit -n 1000\n",
    "comb(n, k)"
   ]
  },
  {
   "cell_type": "code",
   "execution_count": 11,
   "metadata": {
    "hideCode": true,
    "hidePrompt": true
   },
   "outputs": [
    {
     "name": "stdout",
     "output_type": "stream",
     "text": [
      "710 ns ± 141 ns per loop (mean ± std. dev. of 7 runs, 1000 loops each)\n"
     ]
    }
   ],
   "source": [
    "%%timeit -n 1000\n",
    "comb(n, k, exact=True)"
   ]
  },
  {
   "cell_type": "code",
   "execution_count": 12,
   "metadata": {
    "hideCode": true,
    "hidePrompt": true
   },
   "outputs": [
    {
     "data": {
      "text/plain": [
       "194280608456793000"
      ]
     },
     "execution_count": 12,
     "metadata": {},
     "output_type": "execute_result"
    }
   ],
   "source": [
    "comb(n, k, exact=True)"
   ]
  },
  {
   "cell_type": "code",
   "execution_count": 13,
   "metadata": {
    "hideCode": true,
    "hidePrompt": true
   },
   "outputs": [
    {
     "data": {
      "text/plain": [
       "array([ 6., 20., 35.])"
      ]
     },
     "execution_count": 13,
     "metadata": {},
     "output_type": "execute_result"
    }
   ],
   "source": [
    "comb(n_arr, k_arr, exact=False)"
   ]
  },
  {
   "cell_type": "code",
   "execution_count": 14,
   "metadata": {
    "hideCode": true,
    "hidePrompt": true
   },
   "outputs": [],
   "source": [
    "# Your work\n",
    "def dev_comb(n,k):\n",
    "    pass"
   ]
  },
  {
   "cell_type": "markdown",
   "metadata": {
    "hideCode": true,
    "hidePrompt": true
   },
   "source": [
    "### Permutation"
   ]
  },
  {
   "cell_type": "code",
   "execution_count": 15,
   "metadata": {
    "hideCode": true,
    "hidePrompt": true
   },
   "outputs": [
    {
     "data": {
      "text/plain": [
       "979174266622236720000"
      ]
     },
     "execution_count": 15,
     "metadata": {},
     "output_type": "execute_result"
    }
   ],
   "source": [
    "perm(n,k, exact=True)"
   ]
  },
  {
   "cell_type": "code",
   "execution_count": 16,
   "metadata": {
    "hideCode": true,
    "hidePrompt": true
   },
   "outputs": [
    {
     "data": {
      "text/plain": [
       "array([ 12., 120., 840.])"
      ]
     },
     "execution_count": 16,
     "metadata": {},
     "output_type": "execute_result"
    }
   ],
   "source": [
    "perm(n_arr, k_arr)"
   ]
  },
  {
   "cell_type": "code",
   "execution_count": 17,
   "metadata": {
    "hideCode": true,
    "hidePrompt": true
   },
   "outputs": [],
   "source": [
    "# Your work\n",
    "def dev_perm(n,k):\n",
    "    pass"
   ]
  },
  {
   "cell_type": "markdown",
   "metadata": {
    "hideCode": true,
    "hidePrompt": true
   },
   "source": [
    "## 2. Sampling and Simulation\n",
    "Import following dependencies:"
   ]
  },
  {
   "cell_type": "code",
   "execution_count": 18,
   "metadata": {
    "hideCode": true,
    "hidePrompt": true
   },
   "outputs": [],
   "source": [
    "import random"
   ]
  },
  {
   "cell_type": "markdown",
   "metadata": {
    "hideCode": true,
    "hidePrompt": true
   },
   "source": [
    "### Ordered random sample without replacement"
   ]
  },
  {
   "cell_type": "code",
   "execution_count": 19,
   "metadata": {
    "hideCode": true,
    "hidePrompt": true
   },
   "outputs": [
    {
     "data": {
      "text/plain": [
       "[8, 4, 6, 9, 5]"
      ]
     },
     "execution_count": 19,
     "metadata": {},
     "output_type": "execute_result"
    }
   ],
   "source": [
    "# Ordered random sample of 5 of the numbers from 1 to 10\n",
    "# without replacement\n",
    "# with equal probabilities given to each number\n",
    "pop = list(range(1,11)) # Population to choose from\n",
    "random.sample(pop, 5)"
   ]
  },
  {
   "cell_type": "code",
   "execution_count": 20,
   "metadata": {
    "hideCode": true,
    "hidePrompt": true
   },
   "outputs": [
    {
     "data": {
      "text/plain": [
       "[1, 2, 3, 4, 5, 6, 7, 8, 9, 10]"
      ]
     },
     "execution_count": 20,
     "metadata": {},
     "output_type": "execute_result"
    }
   ],
   "source": [
    "pop"
   ]
  },
  {
   "cell_type": "markdown",
   "metadata": {
    "hideCode": true,
    "hidePrompt": true
   },
   "source": [
    "### Ordered random sample with replacement"
   ]
  },
  {
   "cell_type": "code",
   "execution_count": 21,
   "metadata": {
    "hideCode": true,
    "hidePrompt": true
   },
   "outputs": [
    {
     "data": {
      "text/plain": [
       "[3, 2, 9, 5, 7]"
      ]
     },
     "execution_count": 21,
     "metadata": {},
     "output_type": "execute_result"
    }
   ],
   "source": [
    "# Ordered random sample of 5 of the numbers from 1 to 10\n",
    "# with replacement\n",
    "random.choices(pop, k=5)"
   ]
  },
  {
   "cell_type": "markdown",
   "metadata": {
    "hideCode": true,
    "hidePrompt": true
   },
   "source": [
    "### Random permutation"
   ]
  },
  {
   "cell_type": "code",
   "execution_count": 22,
   "metadata": {
    "hideCode": true,
    "hidePrompt": true
   },
   "outputs": [
    {
     "data": {
      "text/plain": [
       "array([703,  49, 760, 829, 776, 848, 599, 325, 500, 796, 738, 136, 897,\n",
       "        87, 884, 801, 145, 135, 405, 555, 125, 411, 150, 552, 238, 442,\n",
       "       860, 227, 821, 517, 625, 486, 975, 182, 665, 694, 148, 361, 214,\n",
       "       467, 957, 483, 956, 554, 762, 391, 783,   1, 737, 313, 742, 610,\n",
       "       808, 746, 617, 393, 902, 968, 872,  42, 172, 575, 903, 168, 489,\n",
       "       139, 522, 171, 724, 367, 471, 784, 414, 163, 948, 479, 717, 461,\n",
       "       929, 543, 525, 786,  43, 682, 879, 264, 457, 351, 203, 165,  56,\n",
       "       385, 671, 638, 488, 739, 243, 521, 380, 458, 305, 445, 431, 412,\n",
       "       911, 374, 254, 119, 566, 124, 756, 245, 279, 532, 490, 709, 222,\n",
       "       383, 807, 410, 655, 943, 855, 729, 826, 170, 648, 973, 282, 396,\n",
       "       893, 683, 974,  37, 751, 176, 702, 436, 324, 175,  67, 836, 794,\n",
       "       342, 271, 512, 909, 827, 679, 397, 395, 370, 260, 716, 409, 174,\n",
       "       633, 609, 905, 658, 330, 896, 197,   0,  46, 519, 433, 381, 448,\n",
       "       553, 495, 534, 614, 664,  68, 503, 551, 838, 295, 890, 269, 308,\n",
       "         3, 736, 106, 184, 788, 823, 358, 375, 992, 157, 604, 715, 570,\n",
       "       844, 242, 215, 944, 889, 672, 962, 524, 735,  95, 299, 162, 312,\n",
       "        17, 263, 487, 366,  65, 937, 158, 329, 912, 761, 219, 894, 220,\n",
       "       455, 825, 191, 815, 460, 288, 252, 315, 677, 791, 743, 603, 485,\n",
       "       365, 845, 846, 209, 930, 100, 916,  90, 705, 528, 550, 732, 228,\n",
       "       498, 931, 605,  50, 206, 262, 109, 439, 166, 143, 646, 360, 327,\n",
       "       989, 875,  36, 723, 118,  82, 449, 959, 780, 567, 317, 508, 526,\n",
       "       678, 561,  34, 741, 379, 451, 793, 413, 754, 513, 301, 613,  92,\n",
       "       699, 940, 789, 364, 218, 816, 559, 356, 573, 965, 676, 820, 545,\n",
       "       966, 721,  12, 149, 382, 196,  28, 496, 612, 627, 798, 371, 619,\n",
       "       333, 626, 338,  52, 499, 353, 142, 659, 194, 918, 586, 346, 224,\n",
       "       981, 322, 183, 307, 620, 475,  73, 491,  19,  97, 606, 713, 856,\n",
       "       822, 268, 237, 806, 578, 110, 652, 906, 102, 452, 861, 208, 701,\n",
       "       398, 472, 668,  55,  64, 817, 253, 180, 155, 851, 406, 622,  99,\n",
       "       454, 115, 650, 915, 204, 267, 470, 557, 121, 598, 580, 140, 590,\n",
       "       892, 428, 642, 674,  40, 828, 529, 420, 584, 291, 357, 569,   4,\n",
       "       504, 750, 976, 919,  51,  31, 834, 707, 773, 624, 718, 972, 985,\n",
       "        80, 730, 478, 437, 339,  13, 830, 181, 950, 141, 459, 731,  39,\n",
       "       210, 128, 858, 921, 781, 996,  79, 399, 936, 661, 213, 492, 435,\n",
       "       456, 241, 986, 474, 270, 278, 686, 403, 608,  41, 368, 803, 670,\n",
       "       710, 967, 819, 618, 597, 734, 120,  10, 978, 696, 464, 755, 681,\n",
       "       641, 697, 418, 666, 582,  18, 103, 173, 616, 432, 654, 376, 572,\n",
       "       766, 304, 993, 541,  35, 283, 538, 310, 212,  66, 441, 854, 862,\n",
       "       833,  22, 692, 450, 240, 560,  61, 419, 592, 354, 874, 408, 169,\n",
       "       747, 258,  81, 689,  93, 347, 544, 201, 818, 925,  70, 328, 847,\n",
       "       516, 426, 607, 995, 984, 320, 757, 792, 373, 527, 537, 336, 726,\n",
       "        74, 363, 873, 785, 123, 698, 891, 290, 318, 334,  89, 161, 774,\n",
       "       942, 132,  33, 871, 137, 340, 129, 319, 687, 401, 369, 507, 795,\n",
       "       387,  86, 927, 453, 244,  20, 886, 928,   2, 372, 983, 767, 601,\n",
       "       256, 667, 216, 711, 749, 802, 226, 497, 200, 832, 144, 235, 813,\n",
       "       958, 951, 988, 188, 280, 901, 230, 887, 341, 758, 156, 265, 853,\n",
       "       416, 563, 443, 107, 704, 630,  53, 800, 595, 133, 229, 589, 444,\n",
       "        62, 688, 865, 417, 274, 763, 842, 843, 562, 964,  58, 669, 888,\n",
       "       960, 849,  25, 859, 114, 764, 640, 186, 587, 748, 753,  72, 768,\n",
       "       273, 954, 922,  44, 359, 765, 302, 311, 953, 518, 108, 421, 933,\n",
       "       971,  15, 752,  76, 841, 236,   7, 348, 300, 447,  47, 695,  75,\n",
       "       547, 349, 824, 539, 146, 649, 645, 869, 708, 344, 415, 378, 323,\n",
       "       250, 463, 501, 275, 868, 596, 644, 276, 946, 895, 810, 685, 771,\n",
       "       306, 805, 941, 571, 350, 386, 407, 505, 211, 493, 298, 473,  78,\n",
       "       631, 621, 111, 840, 239, 335, 287,   6, 423, 881, 949, 831, 991,\n",
       "       117, 797, 285, 799, 546, 515, 116, 548, 898,  23, 362, 294, 725,\n",
       "       122, 205, 189,  71, 969, 870, 914, 430, 970, 782, 377, 778, 281,\n",
       "       987, 429, 390, 509, 187, 248, 466, 424, 673, 594, 814, 904, 321,\n",
       "       404, 581, 939, 195,  85, 482, 657, 997, 480, 389, 494, 565, 835,\n",
       "       535, 289,  45, 531, 530, 154, 246,  30,  32, 877, 225, 651, 247,\n",
       "       882, 719, 864, 577, 878, 427, 852, 740, 231, 636, 476, 623, 511,\n",
       "       384, 980, 790, 134, 647, 520, 899, 542, 159,   8, 178, 185, 309,\n",
       "       907,  14, 221, 850, 167, 468, 938, 727, 660, 924,  29, 153,  77,\n",
       "       337, 769,  54, 400, 866, 249, 138, 355, 583, 593, 568, 920, 272,\n",
       "       193, 775, 160, 233, 770,  84, 885, 663,  21, 691, 303,  98, 629,\n",
       "       680, 979, 935, 998, 564, 261, 591,   5,  94,  24, 402, 628, 190,\n",
       "       126,  83, 477, 720,  63, 994,  96, 151, 164, 611, 585, 999, 917,\n",
       "       284, 104, 908, 777, 653, 602, 536, 588, 523, 839, 712, 759,  38,\n",
       "       880, 714, 533, 744, 540, 913, 105, 202, 440,   9, 637, 131, 292,\n",
       "        60, 963, 728, 192, 446, 314,  88, 326, 787, 179, 465, 923, 615,\n",
       "       484, 690, 574, 558,  91, 934, 745, 779, 147, 296, 961, 706, 635,\n",
       "       199, 425, 576, 656, 232, 434, 982, 804, 632, 867, 549, 177, 392,\n",
       "       876, 977, 462,  48, 947, 277,  11, 863, 130,  59, 438, 990, 332,\n",
       "        16, 932,  26, 207, 662, 579, 693,  27, 600, 331, 343, 722, 955,\n",
       "       422, 293, 251, 945, 234, 127, 900, 812, 809, 286, 316,  69, 684,\n",
       "       112, 255, 510, 113, 217, 700, 634, 883, 259, 811, 857, 926, 469,\n",
       "        57, 152, 772, 297, 502, 952, 910, 514, 639, 388, 352, 394, 481,\n",
       "       733, 198, 266, 101, 643, 223, 257, 837, 345, 506, 675, 556])"
      ]
     },
     "execution_count": 22,
     "metadata": {},
     "output_type": "execute_result"
    }
   ],
   "source": [
    "np.random.permutation(n)"
   ]
  },
  {
   "cell_type": "code",
   "execution_count": 23,
   "metadata": {
    "hideCode": true,
    "hidePrompt": true
   },
   "outputs": [
    {
     "data": {
      "text/plain": [
       "array([4, 7, 6])"
      ]
     },
     "execution_count": 23,
     "metadata": {},
     "output_type": "execute_result"
    }
   ],
   "source": [
    "np.random.permutation(n_arr)"
   ]
  },
  {
   "cell_type": "code",
   "execution_count": 24,
   "metadata": {
    "hideCode": true,
    "hidePrompt": true
   },
   "outputs": [
    {
     "data": {
      "text/plain": [
       "array(['as', 'have', 'thinking', 'changing', 'our', 'of', 'created',\n",
       "       'world', 'changed', 'it', 'It', 'we', 'a', 'thinking.', 'our',\n",
       "       'process', 'be', 'without', 'cannot', 'The', 'is'], dtype='<U9')"
      ]
     },
     "execution_count": 24,
     "metadata": {},
     "output_type": "execute_result"
    }
   ],
   "source": [
    "str = \"The world as we have created it is a process of our thinking. It cannot be changed without changing our thinking\"\n",
    "ls = str.split(\" \")\n",
    "np.random.permutation(ls)"
   ]
  },
  {
   "cell_type": "markdown",
   "metadata": {
    "hideCode": true,
    "hidePrompt": true
   },
   "source": [
    "### Random combination"
   ]
  },
  {
   "cell_type": "code",
   "execution_count": 25,
   "metadata": {
    "hideCode": true,
    "hidePrompt": true
   },
   "outputs": [
    {
     "data": {
      "text/plain": [
       "array([2, 3, 0])"
      ]
     },
     "execution_count": 25,
     "metadata": {},
     "output_type": "execute_result"
    }
   ],
   "source": [
    "np.random.choice(5, 3, replace=False, p=[0.1, 0, 0.3, 0.6, 0])"
   ]
  },
  {
   "cell_type": "markdown",
   "metadata": {
    "hideCode": true,
    "hidePrompt": true
   },
   "source": [
    "## 3. Birthday problem\n",
    "There are  𝑘  people in a room. Assume each person's birthday is equally likely to be any of the 365 days of the year (we exclude February 29), and that people's birthdays are independent (we assume there are no twins in the room). What is the probability that two or more people in the group have the same birthday?\n",
    "<br><br>\n",
    "<details>\n",
    "    <summary><b>Solution</b></summary>\n",
    "    - Number of ways to assign birthdays to the people in the room: $365^k$<br>\n",
    "    - Number of ways to assign birthdays to  𝑘  people such that no two people share a birthday:<br><br>\n",
    "    $$365⋅364⋅363⋯(365−𝑘+1)\\text{ for } 𝑘≤365$$<br>\n",
    "    Therefore,<br>\n",
    "    $$P\\text{(no birthday match)} = \\frac{365⋅364⋅363⋯(365−𝑘+1)}{365^k}$$<br>\n",
    "    $$P\\text{(at least one birthday match)} = 1 - \\frac{365⋅364⋅363⋯(365−𝑘+1)}{365^k}$$\n",
    "</details>"
   ]
  },
  {
   "cell_type": "code",
   "execution_count": 26,
   "metadata": {
    "hideCode": true,
    "hidePrompt": true
   },
   "outputs": [],
   "source": [
    "def calculate_birthday_match_prob(k):\n",
    "    '''\n",
    "    Calculate the probability of birthday match in the room with k people\n",
    "    :param k: <int> # of people in the room (k <= 365)\n",
    "    '''\n",
    "    prob = 1\n",
    "    for i in range(366-k,366):\n",
    "        prob *= i/365\n",
    "        \n",
    "    return 1-prob"
   ]
  },
  {
   "cell_type": "code",
   "execution_count": 27,
   "metadata": {
    "hideCode": true,
    "hidePrompt": true
   },
   "outputs": [
    {
     "data": {
      "application/vnd.jupyter.widget-view+json": {
       "model_id": "de82183320784a13a707b67bd1049139",
       "version_major": 2,
       "version_minor": 0
      },
      "text/plain": [
       "GridspecLayout(children=(HTML(value='<font color=\"#27767B\"><center><h3>Birthday Paradox</h3></center>', layout…"
      ]
     },
     "metadata": {},
     "output_type": "display_data"
    },
    {
     "data": {
      "application/vnd.jupyter.widget-view+json": {
       "model_id": "77b6eb6b61b74d979d2826d7b2509185",
       "version_major": 2,
       "version_minor": 0
      },
      "text/plain": [
       "interactive(children=(IntSlider(value=1, description='k', max=365), Output()), _dom_classes=('widget-interact'…"
      ]
     },
     "metadata": {},
     "output_type": "display_data"
    },
    {
     "data": {
      "text/plain": [
       "<function __main__.display_prob(k)>"
      ]
     },
     "metadata": {},
     "output_type": "display_data"
    }
   ],
   "source": [
    "grid = widgets.GridspecLayout(20, 30, height='100px')\n",
    "# Header\n",
    "header = widgets.HTML('<font color=\"#27767B\"><center><h3>Birthday Paradox</h3></center>')\n",
    "\n",
    "# Buttons\n",
    "simulate = widgets.Button(description=\"Simulate\", button_style=\"info\")\n",
    "\n",
    "# Slider\n",
    "slider = widgets.IntSlider(min=0, max=365, step=1, value=1)\n",
    "choose_k = widgets.VBox([widgets.HTML('<b>Choose number of people in the room (k):</b>'), slider])\n",
    "\n",
    "# Probability\n",
    "def display_prob(k):\n",
    "    prob = widgets.VBox([widgets.HTML('<b>Probability</b>'),\n",
    "                    widgets.HTML('The probability of at least one match at %d-people room count: %.4f'\n",
    "                                 % (k,calculate_birthday_match_prob(k)))])\n",
    "    x = np.linspace(0,365, 61).astype(int)\n",
    "    y = [calculate_birthday_match_prob(k) for k in x]\n",
    "    fig, ax = plt.subplots(1, 1, figsize=(10, 5))\n",
    "    ax.plot(x,y)\n",
    "    ax.plot(x,[calculate_birthday_match_prob(k)*(i+1)/(i+1) for i in x])\n",
    "    plt.show()\n",
    "    return prob\n",
    "\n",
    "# def display_result(sender):\n",
    "    \n",
    "grid[0,:20] = header\n",
    "grid[2:10,:10] = widgets.HTML('<b>Choose number of people in the room (k):</b>')\n",
    "display(grid)\n",
    "display(widgets.interact(display_prob, k=slider))"
   ]
  },
  {
   "cell_type": "markdown",
   "metadata": {
    "hideCode": true,
    "hidePrompt": true
   },
   "source": [
    "## 4. Matching problem simulation\n",
    "***de Montmort's matching problem***: Consider a well-shuffed deck of n cards, labeled 1 through n. You fip over the cards one by one, saying the numbers 1 through n as you do so. You win the game if, at some point, the number you say aloud is the same as the number on the card being flipped over (ex, if the 7th card in the deck has the label 7). What is the probability of winning?\n",
    "<br><br>\n",
    "<details>\n",
    "    <summary><b>Solution</b></summary>\n",
    "    $A_i$: the event that the $i$th card in the deck has the number i written on it.\n",
    "    We need to calculate the probability of the union $A_1\\cap A_2\\cap$\n",
    "</details>"
   ]
  },
  {
   "cell_type": "code",
   "execution_count": null,
   "metadata": {
    "hideCode": true,
    "hidePrompt": true
   },
   "outputs": [],
   "source": []
  }
 ],
 "metadata": {
  "hide_code_all_hidden": true,
  "kernelspec": {
   "display_name": "Python 3",
   "language": "python",
   "name": "python3"
  },
  "language_info": {
   "codemirror_mode": {
    "name": "ipython",
    "version": 3
   },
   "file_extension": ".py",
   "mimetype": "text/x-python",
   "name": "python",
   "nbconvert_exporter": "python",
   "pygments_lexer": "ipython3",
   "version": "3.7.3"
  }
 },
 "nbformat": 4,
 "nbformat_minor": 2
}
