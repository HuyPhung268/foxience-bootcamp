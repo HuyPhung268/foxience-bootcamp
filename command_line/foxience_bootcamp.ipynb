{
 "cells": [
  {
   "cell_type": "code",
   "execution_count": 21,
   "metadata": {},
   "outputs": [],
   "source": [
    "from thongtinthuoc import Thongtinthuoc\n",
    "from IPython.display import JSON, HTML\n",
    "from pprint import pprint"
   ]
  },
  {
   "cell_type": "code",
   "execution_count": 2,
   "metadata": {},
   "outputs": [],
   "source": [
    "T3 = Thongtinthuoc(']sFwDb8;$Zp0TpK3:k@JIZe0C=7BO7')"
   ]
  },
  {
   "cell_type": "code",
   "execution_count": 3,
   "metadata": {},
   "outputs": [],
   "source": [
    "metformin = T3.search('bietduoc', 'Metformin')"
   ]
  },
  {
   "cell_type": "code",
   "execution_count": null,
   "metadata": {},
   "outputs": [],
   "source": [
    "display(JSON(metformin.data))"
   ]
  },
  {
   "cell_type": "code",
   "execution_count": null,
   "metadata": {},
   "outputs": [],
   "source": [
    "for bietduoc in metformin.data:\n",
    "    pprint(bietduoc.bietduochoatchat_set)"
   ]
  },
  {
   "cell_type": "code",
   "execution_count": null,
   "metadata": {},
   "outputs": [],
   "source": [
    "for bietduoc in metformin.data:\n",
    "    pprint(bietduoc.SDK)"
   ]
  },
  {
   "cell_type": "code",
   "execution_count": 17,
   "metadata": {},
   "outputs": [],
   "source": [
    "duoclieu = T3.search('duoclieu', 'rau')"
   ]
  },
  {
   "cell_type": "code",
   "execution_count": null,
   "metadata": {},
   "outputs": [],
   "source": [
    "display(JSON(duoclieu.data))"
   ]
  },
  {
   "cell_type": "code",
   "execution_count": null,
   "metadata": {},
   "outputs": [],
   "source": [
    "for item in duoclieu.data:\n",
    "    html = HTML('<h1>%s</h1><h2>%s</h2><img src=\"%s\">' % (item.title, item.title_en, item.thumbnail))\n",
    "    display(html)"
   ]
  },
  {
   "cell_type": "code",
   "execution_count": 26,
   "metadata": {},
   "outputs": [],
   "source": [
    "sitagliptin = T3.search('unii', 'Sitagliptin')"
   ]
  },
  {
   "cell_type": "code",
   "execution_count": 27,
   "metadata": {},
   "outputs": [
    {
     "data": {
      "application/json": [
       {
        "INCHIKEY": "MFFMDFFZMYYVKS-SECBINFHSA-N",
        "MF": "C16H15F6N5O",
        "NCIT": "C73838",
        "PT": "SITAGLIPTIN",
        "QT": false,
        "RN": "486460-32-6",
        "SMILES": "c1c(c(cc(c1F)F)F)C[C@H](CC(=O)N2CCn3c(nnc3C(F)(F)F)C2)N",
        "_type": "unii",
        "availability": true,
        "bietduoc_cnt": 0,
        "boost": 3.5,
        "co_tuong_tac_thuoc_la": false,
        "duoclieu_cnt": 0,
        "flag": 7,
        "has_salts": true,
        "highlighted_alt_titles_name": "<em>Sitagliptin</em>",
        "highlighted_title": "<em>SITAGLIPTIN</em>",
        "highlighted_title_wo_accent": "<em>SITAGLIPTIN</em>",
        "id": "QFP0P1DV7Z",
        "pub_status": "L",
        "qua_sua_me": false,
        "substance_type": 1,
        "tang_nhay_sang": false,
        "thumbnail": "https://yduoc-media.s3-ap-southeast-1.amazonaws.com/hoatchat/Sitagliptin.png",
        "title": "SITAGLIPTIN",
        "title_wo_accent": "SITAGLIPTIN",
        "total_cnt": 42,
        "variant_titles": [
         "sitagliptine",
         "sitaglliptine"
        ]
       },
       {
        "PT": "Sitagliptin Phosphate + Metformin Hydrochloride",
        "QT": false,
        "REM": false,
        "_type": "unii",
        "availability": true,
        "bietduoc_cnt": 0,
        "boost": 3.5,
        "duoclieu_cnt": 0,
        "flag": 7,
        "highlighted_alt_titles_name": "<em>Sitagliptin</em> + Metformin",
        "highlighted_title": "<em>Sitagliptin</em> Phosphate + Metformin Hydrochloride",
        "highlighted_title_wo_accent": "<em>Sitagliptin</em> Phosphate + Metformin Hydrochloride",
        "id": "786Z46389E+TS63EW8X6F",
        "pub_status": "L",
        "title": "Sitagliptin Phosphate + Metformin Hydrochloride",
        "title_wo_accent": "Sitagliptin Phosphate + Metformin Hydrochloride",
        "total_cnt": 0,
        "variant_titles": [
         "sitagliptine phosphate + metformine hydrochloride",
         "sitagliptine phosphate + metformine hydrocloride",
         "sitagliptine phosphate + metformine hydrochlloride",
         "sitagliptine phosphate + metformine hydroclloride",
         "sitaglliptine phosphate + metformine hydrochloride",
         "sitaglliptine phosphate + metformine hydrocloride",
         "sitaglliptine phosphate + metformine hydrochlloride",
         "sitaglliptine phosphate + metformine hydroclloride"
        ]
       }
      ],
      "text/plain": [
       "<IPython.core.display.JSON object>"
      ]
     },
     "metadata": {
      "application/json": {
       "expanded": false,
       "root": "root"
      }
     },
     "output_type": "display_data"
    }
   ],
   "source": [
    "display(JSON(sitagliptin.data))"
   ]
  },
  {
   "cell_type": "code",
   "execution_count": 28,
   "metadata": {},
   "outputs": [
    {
     "data": {
      "text/html": [
       "<h1>SITAGLIPTIN</h1><img src=\"https://yduoc-media.s3-ap-southeast-1.amazonaws.com/hoatchat/Sitagliptin.png\">"
      ],
      "text/plain": [
       "<IPython.core.display.HTML object>"
      ]
     },
     "metadata": {},
     "output_type": "display_data"
    }
   ],
   "source": [
    "for item in sitagliptin.data:\n",
    "    if item.get('SMILES'):\n",
    "        display(HTML('<h1>%s</h1><img src=\"%s\">' % (item.title, item.thumbnail)))"
   ]
  },
  {
   "cell_type": "code",
   "execution_count": 31,
   "metadata": {},
   "outputs": [
    {
     "data": {
      "text/html": [
       "<h1>SITAGLIPTIN</h1><img src=\"https://yduoc-media.s3-ap-southeast-1.amazonaws.com/hoatchat/Sitagliptin.png\">"
      ],
      "text/plain": [
       "<IPython.core.display.HTML object>"
      ]
     },
     "metadata": {},
     "output_type": "display_data"
    },
    {
     "data": {
      "text/html": [
       "<h1>METFORMIN</h1><img src=\"https://yduoc-media.s3-ap-southeast-1.amazonaws.com/hoatchat/metformin.png\">"
      ],
      "text/plain": [
       "<IPython.core.display.HTML object>"
      ]
     },
     "metadata": {},
     "output_type": "display_data"
    },
    {
     "data": {
      "text/html": [
       "<h1>TETRACYCLINE</h1><img src=\"https://yduoc-media.s3-ap-southeast-1.amazonaws.com/hoatchat/tetracycline.png\">"
      ],
      "text/plain": [
       "<IPython.core.display.HTML object>"
      ]
     },
     "metadata": {},
     "output_type": "display_data"
    }
   ],
   "source": [
    "danhsach_hoatchat = ['sitagliptin', 'metformin', 'tetracyclin']\n",
    "for hoatchat in danhsach_hoatchat:\n",
    "    ketqua = T3.search('unii', hoatchat)\n",
    "    for item in ketqua.data:\n",
    "        if item.get('SMILES'):\n",
    "            html = HTML('<h1>%s</h1><img src=\"%s\">' % (item.title, item.thumbnail))\n",
    "            display(html)"
   ]
  },
  {
   "cell_type": "code",
   "execution_count": 32,
   "metadata": {},
   "outputs": [
    {
     "data": {
      "application/json": [
       {
        "_type": "doanhnghiep",
        "alt_titles": [],
        "boost": 1,
        "display_name": "Merck, S.L.",
        "highlighted_title": "<em>Merck</em>, S.L.",
        "highlighted_title_wo_accent": "<em>Merck</em>, S.L.",
        "id": "64547",
        "pub_status": "L",
        "searchable_address": [],
        "title": "Merck, S.L.",
        "title_wo_accent": "Merck, S.L.",
        "variant_titles": [
         "merck, s.l.",
         "merck, s.ll."
        ]
       },
       {
        "_type": "doanhnghiep",
        "alt_titles": [],
        "boost": 1,
        "display_name": "Merck & CIE",
        "highlighted_title": "<em>Merck</em> & CIE",
        "highlighted_title_wo_accent": "<em>Merck</em> & CIE",
        "id": "58799",
        "pub_status": "L",
        "searchable_address": [],
        "title": "Merck & CIE",
        "title_wo_accent": "Merck & CIE",
        "variant_titles": [
         "merck & cie"
        ]
       },
       {
        "_type": "doanhnghiep",
        "alt_titles": [],
        "boost": 1,
        "display_name": "MERCK & CIE",
        "highlighted_title": "<em>MERCK</em> & CIE",
        "highlighted_title_wo_accent": "<em>MERCK</em> & CIE",
        "id": "54784",
        "pub_status": "L",
        "searchable_address": [],
        "title": "MERCK & CIE",
        "title_wo_accent": "MERCK & CIE",
        "variant_titles": [
         "merck & cie"
        ]
       },
       {
        "_type": "doanhnghiep",
        "alt_titles": [],
        "boost": 1,
        "display_name": "Merck S.A de C.V.",
        "highlighted_title": "<em>Merck</em> S.A de C.V.",
        "highlighted_title_wo_accent": "<em>Merck</em> S.A de C.V.",
        "id": "16780",
        "pub_status": "L",
        "searchable_address": [],
        "title": "Merck S.A de C.V.",
        "title_wo_accent": "Merck S.A de C.V.",
        "variant_titles": [
         "merck s.a de c.v."
        ]
       },
       {
        "_type": "doanhnghiep",
        "alt_titles": [],
        "boost": 1,
        "display_name": "Laboratories Merck, Sharp & Dohme - Chibret",
        "highlighted_title": "Laboratories <em>Merck</em>, Sharp & Dohme - Chibret",
        "highlighted_title_wo_accent": "Laboratories <em>Merck</em>, Sharp & Dohme - Chibret",
        "id": "61343",
        "pub_status": "L",
        "searchable_address": [],
        "title": "Laboratories Merck, Sharp & Dohme - Chibret",
        "title_wo_accent": "Laboratories Merck, Sharp & Dohme - Chibret",
        "variant_titles": [
         "laboratories merck, sharp & dohme - chibret",
         "llaboratories merck, sharp & dohme - chibret"
        ]
       },
       {
        "_type": "doanhnghiep",
        "alt_titles": [],
        "boost": 1,
        "dia_chi": "Route de Marsat, RIOM 63963, Clermont Ferrand Cedex 9",
        "display_name": "Laboratoires Merck Sharp & Dohme Chibret",
        "highlighted_title": "Laboratoires <em>Merck</em> Sharp & Dohme Chibret",
        "highlighted_title_wo_accent": "Laboratoires <em>Merck</em> Sharp & Dohme Chibret",
        "id": "FRA00071",
        "pub_status": "L",
        "searchable_address": [
         "Route de Marsat, RIOM 63963, Clermont Ferrand Cedex 9"
        ],
        "title": "Laboratoires Merck Sharp & Dohme Chibret",
        "title_wo_accent": "Laboratoires Merck Sharp & Dohme Chibret",
        "variant_titles": [
         "laboratoires merck sharp & dohme chibret",
         "llaboratoires merck sharp & dohme chibret"
        ]
       },
       {
        "_type": "doanhnghiep",
        "alt_titles": [],
        "boost": 1,
        "display_name": "Laboratories Merck, Sharp & Dohme - Chibret",
        "highlighted_title": "Laboratories <em>Merck</em>, Sharp & Dohme - Chibret",
        "highlighted_title_wo_accent": "Laboratories <em>Merck</em>, Sharp & Dohme - Chibret",
        "id": "60885",
        "pub_status": "L",
        "searchable_address": [],
        "title": "Laboratories Merck, Sharp & Dohme - Chibret",
        "title_wo_accent": "Laboratories Merck, Sharp & Dohme - Chibret",
        "variant_titles": [
         "laboratories merck, sharp & dohme - chibret",
         "llaboratories merck, sharp & dohme - chibret"
        ]
       },
       {
        "_type": "doanhnghiep",
        "alt_titles": [],
        "boost": 1,
        "dia_chi": "Rout de Marsat, F-63963 Clermont - Ferrand Cedex 9.",
        "display_name": "Laboratoire Merck Sharp & Dohme - Chibret (Mirabel)",
        "highlighted_title": "Laboratoire <em>Merck</em> Sharp & Dohme - Chibret (Mirabel)",
        "highlighted_title_wo_accent": "Laboratoire <em>Merck</em> Sharp & Dohme - Chibret (Mirabel)",
        "id": "FRA00079",
        "pub_status": "L",
        "searchable_address": [
         "Rout de Marsat, F-63963 Clermont - Ferrand Cedex 9."
        ],
        "title": "Laboratoire Merck Sharp & Dohme - Chibret (Mirabel)",
        "title_wo_accent": "Laboratoire Merck Sharp & Dohme - Chibret (Mirabel)",
        "variant_titles": [
         "laboratoire merck sharp & dohme - chibret (mirabel)",
         "laboratoire merck sharp & dohme - chibret (mirabell)",
         "llaboratoire merck sharp & dohme - chibret (mirabel)",
         "llaboratoire merck sharp & dohme - chibret (mirabell)"
        ]
       },
       {
        "_type": "doanhnghiep",
        "alt_titles": [],
        "boost": 1,
        "display_name": "Merck KGaA",
        "highlighted_title": "<em>Merck</em> KGaA",
        "id": "14639",
        "pub_status": "L",
        "searchable_address": [],
        "title": "Merck KGaA",
        "variant_titles": [
         "merck kgaa"
        ]
       },
       {
        "_type": "doanhnghiep",
        "alt_titles": [],
        "boost": 1,
        "display_name": "Merck Sharp & Dohme BV",
        "highlighted_title": "<em>Merck</em> Sharp & Dohme BV",
        "id": "52888",
        "pub_status": "L",
        "searchable_address": [],
        "title": "Merck Sharp & Dohme BV",
        "variant_titles": [
         "merck sharp & dohme bv"
        ]
       },
       {
        "_type": "doanhnghiep",
        "alt_titles": [],
        "boost": 1,
        "dia_chi": "Via delle Magnolie 15 (loc. frazione Zona Industriale), 70026 Modugno (BA)",
        "display_name": "Merck Serono S.p.A",
        "highlighted_title": "<em>Merck</em> Serono S.p.A",
        "id": "66303",
        "pub_status": "L",
        "searchable_address": [
         "Via delle Magnolie 15 (loc. frazione Zona Industriale), 70026 Modugno (BA)"
        ],
        "title": "Merck Serono S.p.A",
        "variant_titles": [
         "merck serono s.p.a"
        ]
       },
       {
        "_type": "doanhnghiep",
        "alt_titles": [],
        "boost": 1,
        "dia_chi": "2 Rue du Pressoir Vert, 45400 Semoy",
        "display_name": "Merck Sante s.a.s",
        "highlighted_title": "<em>Merck</em> Sante s.a.s",
        "id": "52934",
        "pub_status": "L",
        "searchable_address": [
         "2 Rue du Pressoir Vert, 45400 Semoy"
        ],
        "title": "Merck Sante s.a.s",
        "variant_titles": [
         "merck sante s.a.s"
        ]
       }
      ],
      "text/plain": [
       "<IPython.core.display.JSON object>"
      ]
     },
     "metadata": {
      "application/json": {
       "expanded": false,
       "root": "root"
      }
     },
     "output_type": "display_data"
    }
   ],
   "source": [
    "merck = T3.search('doanhnghiep', 'Merck')\n",
    "display(JSON(merck.data))"
   ]
  },
  {
   "cell_type": "code",
   "execution_count": 33,
   "metadata": {},
   "outputs": [],
   "source": [
    "import wikipedia\n",
    "from googletrans import Translator"
   ]
  },
  {
   "cell_type": "code",
   "execution_count": null,
   "metadata": {},
   "outputs": [],
   "source": []
  }
 ],
 "metadata": {
  "kernelspec": {
   "display_name": "Python 3",
   "language": "python",
   "name": "python3"
  },
  "language_info": {
   "codemirror_mode": {
    "name": "ipython",
    "version": 3
   },
   "file_extension": ".py",
   "mimetype": "text/x-python",
   "name": "python",
   "nbconvert_exporter": "python",
   "pygments_lexer": "ipython3",
   "version": "3.7.4"
  }
 },
 "nbformat": 4,
 "nbformat_minor": 4
}
