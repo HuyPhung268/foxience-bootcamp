{
 "cells": [
  {
   "cell_type": "code",
   "execution_count": 47,
   "metadata": {},
   "outputs": [],
   "source": [
    "import wikipedia as wiki\n",
    "from googletrans import Translator\n",
    "from pprint import pprint\n",
    "from IPython.display import Markdown, JSON, HTML"
   ]
  },
  {
   "cell_type": "code",
   "execution_count": 48,
   "metadata": {},
   "outputs": [],
   "source": [
    "topics = wiki.search('Paracetamol')"
   ]
  },
  {
   "cell_type": "code",
   "execution_count": 49,
   "metadata": {},
   "outputs": [
    {
     "name": "stdout",
     "output_type": "stream",
     "text": [
      "['Paracetamol',\n",
      " 'Paracetamol poisoning',\n",
      " 'Paracetamol brand names',\n",
      " 'Hydrocodone/paracetamol',\n",
      " 'Oxycodone/paracetamol',\n",
      " 'Dextropropoxyphene',\n",
      " 'Propyphenazone/paracetamol/caffeine',\n",
      " 'Ibuprofen/paracetamol',\n",
      " 'Codeine/paracetamol',\n",
      " 'Acetylcysteine']\n"
     ]
    }
   ],
   "source": [
    "pprint(topics)"
   ]
  },
  {
   "cell_type": "code",
   "execution_count": 50,
   "metadata": {},
   "outputs": [],
   "source": [
    "summary = wiki.summary(topics[1])"
   ]
  },
  {
   "cell_type": "code",
   "execution_count": 51,
   "metadata": {},
   "outputs": [
    {
     "data": {
      "text/markdown": [
       "Paracetamol poisoning, also known as acetaminophen poisoning, is caused by excessive use of the medication paracetamol (acetaminophen). Most people have few or non-specific symptoms in the first 24 hours following overdose. These include feeling tired, abdominal pain, or nausea. This is typically followed by a couple of days without any symptoms, after which yellowish skin, blood clotting problems, and confusion occurs as a result of liver failure. Additional complications may include kidney failure, pancreatitis, low blood sugar, and lactic acidosis. If death does not occur, people tend to recover fully over a couple of weeks. Without treatment some cases will resolve while others will result in death.Paracetamol poisoning can occur accidentally or as an attempt to end one's life. Risk factors for toxicity include alcoholism, malnutrition, and the taking of certain other medications. Liver damage results not from paracetamol itself, but from one of its metabolites, N-acetyl-p-benzoquinone imine (NAPQI). NAPQI decreases the liver's glutathione and directly damages cells in the liver. Diagnosis is based on the blood level of paracetamol at specific times after the medication was taken. These values are often plotted on the Rumack-Matthew nomogram to determine level of concern.Treatment may include activated charcoal if the person seeks medical help soon after the overdose. Attempting to force the person to vomit is not recommended. If there is a potential for toxicity, the antidote acetylcysteine is recommended. The medication is generally given for at least 24 hours. Psychiatric care may be required following recovery. A liver transplant may be required if damage to the liver becomes severe. The need for transplant is often based on low blood pH, high blood lactate, poor blood clotting, or significant hepatic encephalopathy. With early treatment liver failure is rare. Death occurs in about 0.1% of cases.Paracetamol poisoning was first described in the 1960s. Rates of poisoning vary significantly between regions of the world. In the United States more than 100,000 cases occur a year. In the United Kingdom it is the medication responsible for the greatest number of overdoses. Young children are most commonly affected. In the United States and the United Kingdom, paracetamol is the most common cause of acute liver failure."
      ],
      "text/plain": [
       "<IPython.core.display.Markdown object>"
      ]
     },
     "metadata": {},
     "output_type": "display_data"
    }
   ],
   "source": [
    "display(Markdown(summary))"
   ]
  },
  {
   "cell_type": "code",
   "execution_count": 52,
   "metadata": {},
   "outputs": [],
   "source": [
    "Tr = Translator()"
   ]
  },
  {
   "cell_type": "code",
   "execution_count": 53,
   "metadata": {},
   "outputs": [],
   "source": [
    "language = Tr.detect(summary)"
   ]
  },
  {
   "cell_type": "code",
   "execution_count": 54,
   "metadata": {},
   "outputs": [
    {
     "data": {
      "text/plain": [
       "'en'"
      ]
     },
     "execution_count": 54,
     "metadata": {},
     "output_type": "execute_result"
    }
   ],
   "source": [
    "language.lang"
   ]
  },
  {
   "cell_type": "code",
   "execution_count": 55,
   "metadata": {},
   "outputs": [],
   "source": [
    "vi_summary = Tr.translate(summary, src='en', dest='vi')"
   ]
  },
  {
   "cell_type": "code",
   "execution_count": 56,
   "metadata": {},
   "outputs": [
    {
     "data": {
      "text/markdown": [
       "Paracetamol ngộ độc, còn được gọi là ngộ độc acetaminophen, là do sử dụng quá nhiều các paracetamol thuốc (acetaminophen). Hầu hết mọi người có ít hoặc không đặc hiệu triệu chứng trong vòng 24 giờ đầu tiên sau quá liều. Chúng bao gồm cảm giác mệt mỏi, đau bụng, hoặc buồn nôn. Này thường được theo sau là một vài ngày mà không cần bất kỳ triệu chứng, sau đó da vàng, vấn đề máu đông máu, và sự nhầm lẫn xảy ra như là kết quả của suy gan. biến chứng khác có thể bao gồm suy thận, viêm tụy, lượng đường trong máu thấp, và nhiễm acid lactic. Nếu cái chết không xảy ra, mọi người có xu hướng phục hồi hoàn toàn trong một vài tuần. Nếu không điều trị một số trường hợp sẽ giải quyết trong khi những người khác sẽ dẫn đến ngộ độc death.Paracetamol có thể xảy ra vô tình hay như một nỗ lực nhằm chấm dứt cuộc sống của một người. yếu tố nguy cơ độc tính bao gồm nghiện rượu, suy dinh dưỡng, và lấy một số thuốc khác. kết quả tổn thương gan không phải từ bản thân paracetamol, nhưng từ một trong những chất chuyển hóa của nó, N-acetyl-p-benzoquinone imine (NAPQI). NAPQI giảm tế bào glutathione và trực tiếp bồi thường thiệt hại của gan trong gan. Chẩn đoán dựa vào mức độ máu của paracetamol vào những thời điểm cụ thể sau khi thuốc được thực hiện. Những giá trị này thường được vẽ trên các Rumack-Matthew bảng xoay nomogram để xác định mức độ concern.Treatment có thể bao gồm than hoạt tính nếu người tìm kiếm sự giúp đỡ y tế ngay sau khi quá liều. Cố gắng để buộc người để nôn mửa không được khuyến khích. Nếu có một tiềm năng cho các độc tính, các acetylcystein thuốc giải độc được khuyến khích. Các thuốc thường được đưa ra trong ít nhất 24 giờ. chăm sóc tâm thần có thể được yêu cầu sau phục hồi. Ghép gan có thể được yêu cầu nếu thiệt hại cho gan trở nên trầm trọng. Nhu cầu ghép thường được dựa trên pH thấp trong máu, lactat trong máu cao, máu đông người nghèo, hoặc bệnh não gan đáng kể. Với điều trị sớm suy gan là hiếm. Cái chết xảy ra trong khoảng 0,1% ngộ độc cases.Paracetamol được mô tả đầu tiên trong năm 1960. Tỷ lệ ngộ độc khác nhau đáng kể giữa các vùng trên thế giới. Tại Hoa Kỳ hơn 100.000 trường hợp xảy ra một năm. Ở Anh nó là thuốc chịu trách nhiệm về số lượng lớn nhất của quá liều. Trẻ nhỏ thường bị ảnh hưởng nhất. Tại Hoa Kỳ và Vương quốc Anh, paracetamol là nguyên nhân phổ biến nhất của thất bại cấp tính gan."
      ],
      "text/plain": [
       "<IPython.core.display.Markdown object>"
      ]
     },
     "metadata": {},
     "output_type": "display_data"
    }
   ],
   "source": [
    "display(Markdown(vi_summary.text))"
   ]
  },
  {
   "cell_type": "code",
   "execution_count": null,
   "metadata": {},
   "outputs": [],
   "source": []
  }
 ],
 "metadata": {
  "kernelspec": {
   "display_name": "Python 3",
   "language": "python",
   "name": "python3"
  },
  "language_info": {
   "codemirror_mode": {
    "name": "ipython",
    "version": 3
   },
   "file_extension": ".py",
   "mimetype": "text/x-python",
   "name": "python",
   "nbconvert_exporter": "python",
   "pygments_lexer": "ipython3",
   "version": "3.7.4"
  }
 },
 "nbformat": 4,
 "nbformat_minor": 4
}
