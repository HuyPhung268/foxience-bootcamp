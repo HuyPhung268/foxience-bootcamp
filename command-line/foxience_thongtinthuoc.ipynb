{
 "cells": [
  {
   "cell_type": "code",
   "execution_count": 28,
   "metadata": {},
   "outputs": [],
   "source": [
    "from thongtinthuoc import Thongtinthuoc\n",
    "from pprint import pprint\n",
    "import IPython.display"
   ]
  },
  {
   "cell_type": "code",
   "execution_count": 29,
   "metadata": {},
   "outputs": [],
   "source": [
    "T3 = Thongtinthuoc(']sFwDb8;$Zp0TpK3:k@JIZe0C=7BO7')"
   ]
  },
  {
   "cell_type": "code",
   "execution_count": 30,
   "metadata": {},
   "outputs": [
    {
     "data": {
      "application/json": [
       {
        "_type": "bietduoc",
        "bietduochoatchat_set": [
         {
          "bietduoc_id": 4146,
          "don_vi": "mg/1",
          "duoclieu_id": null,
          "ham_luong": "500",
          "ham_luong_filter": 500,
          "hoatchat_id": "362O9ITL9D",
          "hoatchat_name": "ACETAMINOPHEN"
         }
        ],
        "cty": [
         "0135"
        ],
        "cty_dannhan_id": "0135",
        "cty_dannhan_name": [
         "GlaxoSmithKline Consumer Healthcare LP"
        ],
        "dang_bao_che_id": "C42931",
        "dang_bao_che_name": [
         "TABLET, FILM COATED",
         "Viên nén, bao phim",
         "Vien nen, bao phim"
        ],
        "duong_dung_id": "C38288",
        "duong_dung_name": [
         "Uong",
         "ORAL",
         "Uống"
        ],
        "duong_dung_raw": [
         {
          "id": "C38288",
          "name": "Uống"
         }
        ],
        "highlighted_title": "<em>PANADOL</em>",
        "highlighted_title_wo_accent": "<em>PANADOL</em>",
        "hoatchat_count": 1,
        "id": "4146",
        "ingredients": [
         "362O9ITL9D"
        ],
        "ma_NDC": "0135-0136",
        "title": "PANADOL",
        "type": 3
       },
       {
        "_type": "bietduoc",
        "bietduochoatchat_set": [
         {
          "bietduoc_id": 4184,
          "don_vi": "mg/1",
          "duoclieu_id": null,
          "ham_luong": "500",
          "ham_luong_filter": 500,
          "hoatchat_id": "362O9ITL9D",
          "hoatchat_name": "ACETAMINOPHEN"
         },
         {
          "bietduoc_id": 4184,
          "don_vi": "mg/1",
          "duoclieu_id": null,
          "ham_luong": "5",
          "ham_luong_filter": 5,
          "hoatchat_id": "04JA59TNSJ",
          "hoatchat_name": "PHENYLEPHRINE HYDROCHLORIDE"
         }
        ],
        "cty": [
         "0135"
        ],
        "cty_dannhan_id": "0135",
        "cty_dannhan_name": [
         "GlaxoSmithKline Consumer Healthcare LP"
        ],
        "dang_bao_che_id": "C42998",
        "dang_bao_che_name": [
         "TABLET",
         "Viên nén",
         "Vien nen"
        ],
        "duong_dung_id": "C38288",
        "duong_dung_name": [
         "Uong",
         "ORAL",
         "Uống"
        ],
        "duong_dung_raw": [
         {
          "id": "C38288",
          "name": "Uống"
         }
        ],
        "highlighted_title": "<em>Panadol</em>",
        "highlighted_title_wo_accent": "<em>Panadol</em>",
        "hoatchat_count": 2,
        "id": "4184",
        "ingredients": [
         "04JA59TNSJ",
         "362O9ITL9D"
        ],
        "ma_NDC": "0135-0459",
        "title": "Panadol",
        "type": 3
       },
       {
        "_type": "bietduoc",
        "bietduochoatchat_set": [
         {
          "bietduoc_id": 4211,
          "don_vi": "mg/1",
          "duoclieu_id": null,
          "ham_luong": "500",
          "ham_luong_filter": 500,
          "hoatchat_id": "362O9ITL9D",
          "hoatchat_name": "ACETAMINOPHEN"
         }
        ],
        "cty": [
         "0135"
        ],
        "cty_dannhan_id": "0135",
        "cty_dannhan_name": [
         "GlaxoSmithKline Consumer Healthcare LP"
        ],
        "dang_bao_che_id": "C42931",
        "dang_bao_che_name": [
         "TABLET, FILM COATED",
         "Viên nén, bao phim",
         "Vien nen, bao phim"
        ],
        "duong_dung_id": "C38288",
        "duong_dung_name": [
         "Uong",
         "ORAL",
         "Uống"
        ],
        "duong_dung_raw": [
         {
          "id": "C38288",
          "name": "Uống"
         }
        ],
        "highlighted_title": "<em>Panadol</em>",
        "highlighted_title_wo_accent": "<em>Panadol</em>",
        "hoatchat_count": 1,
        "id": "4211",
        "ingredients": [
         "362O9ITL9D"
        ],
        "ma_NDC": "0135-0507",
        "title": "Panadol",
        "type": 3
       },
       {
        "_type": "bietduoc",
        "bietduochoatchat_set": [
         {
          "bietduoc_id": 4180,
          "don_vi": "mg/1",
          "duoclieu_id": null,
          "ham_luong": "500",
          "ham_luong_filter": 500,
          "hoatchat_id": "362O9ITL9D",
          "hoatchat_name": "ACETAMINOPHEN"
         }
        ],
        "cty": [
         "0135"
        ],
        "cty_dannhan_id": "0135",
        "cty_dannhan_name": [
         "GlaxoSmithKline Consumer Healthcare LP"
        ],
        "dang_bao_che_id": "C42931",
        "dang_bao_che_name": [
         "TABLET, FILM COATED",
         "Viên nén, bao phim",
         "Vien nen, bao phim"
        ],
        "duong_dung_id": "C38288",
        "duong_dung_name": [
         "Uong",
         "ORAL",
         "Uống"
        ],
        "duong_dung_raw": [
         {
          "id": "C38288",
          "name": "Uống"
         }
        ],
        "highlighted_title": "<em>Panadol</em>",
        "highlighted_title_wo_accent": "<em>Panadol</em>",
        "hoatchat_count": 1,
        "id": "4180",
        "ingredients": [
         "362O9ITL9D"
        ],
        "ma_NDC": "0135-0433",
        "title": "Panadol",
        "type": 3
       },
       {
        "_type": "bietduoc",
        "bietduochoatchat_set": [
         {
          "bietduoc_id": 4238,
          "don_vi": "mg/mL",
          "duoclieu_id": null,
          "ham_luong": "32",
          "ham_luong_filter": 32,
          "hoatchat_id": "362O9ITL9D",
          "hoatchat_name": "ACETAMINOPHEN"
         }
        ],
        "cty": [
         "0135"
        ],
        "cty_dannhan_id": "0135",
        "cty_dannhan_name": [
         "GlaxoSmithKline Consumer Healthcare LP"
        ],
        "dang_bao_che_id": "C42953",
        "dang_bao_che_name": [
         "LIQUID",
         "Dạng lỏng",
         "Dang long"
        ],
        "duong_dung_id": "C38288",
        "duong_dung_name": [
         "Uong",
         "ORAL",
         "Uống"
        ],
        "duong_dung_raw": [
         {
          "id": "C38288",
          "name": "Uống"
         }
        ],
        "highlighted_title": "<em>PANADOL</em>",
        "highlighted_title_wo_accent": "<em>PANADOL</em>",
        "hoatchat_count": 1,
        "id": "4238",
        "ingredients": [
         "362O9ITL9D"
        ],
        "ma_NDC": "0135-0539",
        "title": "PANADOL",
        "type": 3
       },
       {
        "SDK": "VN-12465-11",
        "_type": "bietduoc",
        "bietduochoatchat_set": [
         {
          "bietduoc_id": 90728,
          "don_vi": "mg",
          "duoclieu_id": null,
          "ham_luong": "500",
          "ham_luong_filter": 500,
          "hoatchat_id": "362O9ITL9D",
          "hoatchat_name": "ACETAMINOPHEN"
         }
        ],
        "cty": [
         "SGP00007",
         "MYS00014"
        ],
        "cty_dannhan_id": "SGP00007",
        "cty_dannhan_name": [
         "Glaxosmithkline Pte. Ltd."
        ],
        "ctysx_id": "MYS00014",
        "ctysx_name": [
         "Sterling Drug (M) Sdn. Bhd."
        ],
        "dang_bao_che_id": "C42931",
        "dang_bao_che_name": [
         "TABLET, FILM COATED",
         "Viên nén, bao phim",
         "Vien nen, bao phim"
        ],
        "dong_goi": [
         {
          "id": "C43168",
          "title": "Vỉ"
         }
        ],
        "dong_goi_id": [
         "C43168"
        ],
        "dong_goi_name": [
         "BLISTER PACK",
         "Vỉ",
         "Vi"
        ],
        "duong_dung_id": "C38288",
        "duong_dung_name": [
         "Uong",
         "ORAL",
         "Uống"
        ],
        "duong_dung_raw": [
         {
          "id": "C38288",
          "name": "Uống"
         }
        ],
        "highlighted_title": "<em>Panadol</em>",
        "highlighted_title_wo_accent": "<em>Panadol</em>",
        "hoatchat_count": 1,
        "id": "90728",
        "ingredients": [
         "362O9ITL9D"
        ],
        "nuoc_sx_id": "MYS",
        "phan_nhom_loai": "A1",
        "ref_price": "808.000",
        "ref_price_unit": "Viên",
        "title": "Panadol",
        "type": 2
       },
       {
        "_type": "bietduoc",
        "bietduochoatchat_set": [
         {
          "bietduoc_id": 4145,
          "don_vi": "mg/1",
          "duoclieu_id": null,
          "ham_luong": "500",
          "ham_luong_filter": 500,
          "hoatchat_id": "362O9ITL9D",
          "hoatchat_name": "ACETAMINOPHEN"
         }
        ],
        "cty": [
         "0135"
        ],
        "cty_dannhan_id": "0135",
        "cty_dannhan_name": [
         "GlaxoSmithKline Consumer Healthcare LP"
        ],
        "dang_bao_che_id": "C42998",
        "dang_bao_che_name": [
         "TABLET",
         "Viên nén",
         "Vien nen"
        ],
        "duong_dung_id": "C38288",
        "duong_dung_name": [
         "Uong",
         "ORAL",
         "Uống"
        ],
        "duong_dung_raw": [
         {
          "id": "C38288",
          "name": "Uống"
         }
        ],
        "highlighted_title": "<em>PANADOL</em>",
        "highlighted_title_wo_accent": "<em>PANADOL</em>",
        "hoatchat_count": 1,
        "id": "4145",
        "ingredients": [
         "362O9ITL9D"
        ],
        "ma_NDC": "0135-0135",
        "title": "PANADOL",
        "type": 3
       },
       {
        "_type": "bietduoc",
        "bietduochoatchat_set": [
         {
          "bietduoc_id": 4171,
          "don_vi": "mg/1",
          "duoclieu_id": null,
          "ham_luong": "500",
          "ham_luong_filter": 500,
          "hoatchat_id": "362O9ITL9D",
          "hoatchat_name": "ACETAMINOPHEN"
         }
        ],
        "cty": [
         "0135"
        ],
        "cty_dannhan_id": "0135",
        "cty_dannhan_name": [
         "GlaxoSmithKline Consumer Healthcare LP"
        ],
        "dang_bao_che_id": "C42931",
        "dang_bao_che_name": [
         "TABLET, FILM COATED",
         "Viên nén, bao phim",
         "Vien nen, bao phim"
        ],
        "duong_dung_id": "C38288",
        "duong_dung_name": [
         "Uong",
         "ORAL",
         "Uống"
        ],
        "duong_dung_raw": [
         {
          "id": "C38288",
          "name": "Uống"
         }
        ],
        "highlighted_title": "<em>PANADOL</em>",
        "highlighted_title_wo_accent": "<em>PANADOL</em>",
        "hoatchat_count": 1,
        "id": "4171",
        "ingredients": [
         "362O9ITL9D"
        ],
        "ma_NDC": "0135-0239",
        "title": "PANADOL",
        "type": 3
       },
       {
        "_type": "bietduoc",
        "bietduochoatchat_set": [
         {
          "bietduoc_id": 4150,
          "don_vi": "mg/1",
          "duoclieu_id": null,
          "ham_luong": "500",
          "ham_luong_filter": 500,
          "hoatchat_id": "362O9ITL9D",
          "hoatchat_name": "ACETAMINOPHEN"
         },
         {
          "bietduoc_id": 4150,
          "don_vi": "mg/1",
          "duoclieu_id": null,
          "ham_luong": "25",
          "ham_luong_filter": 25,
          "hoatchat_id": "TC2D6JAD40",
          "hoatchat_name": "DIPHENHYDRAMINE HYDROCHLORIDE"
         }
        ],
        "cty": [
         "0135"
        ],
        "cty_dannhan_id": "0135",
        "cty_dannhan_name": [
         "GlaxoSmithKline Consumer Healthcare LP"
        ],
        "dang_bao_che_id": "C42931",
        "dang_bao_che_name": [
         "TABLET, FILM COATED",
         "Viên nén, bao phim",
         "Vien nen, bao phim"
        ],
        "duong_dung_id": "C38288",
        "duong_dung_name": [
         "Uong",
         "ORAL",
         "Uống"
        ],
        "duong_dung_raw": [
         {
          "id": "C38288",
          "name": "Uống"
         }
        ],
        "highlighted_title": "<em>PANADOL</em>",
        "highlighted_title_wo_accent": "<em>PANADOL</em>",
        "hoatchat_count": 2,
        "id": "4150",
        "ingredients": [
         "362O9ITL9D",
         "TC2D6JAD40"
        ],
        "ma_NDC": "0135-0150",
        "title": "PANADOL",
        "type": 3
       },
       {
        "_type": "bietduoc",
        "bietduochoatchat_set": [
         {
          "bietduoc_id": 4237,
          "don_vi": "mg/5mL",
          "duoclieu_id": null,
          "ham_luong": "160",
          "ham_luong_filter": 160,
          "hoatchat_id": "362O9ITL9D",
          "hoatchat_name": "ACETAMINOPHEN"
         }
        ],
        "cty": [
         "0135"
        ],
        "cty_dannhan_id": "0135",
        "cty_dannhan_name": [
         "GlaxoSmithKline Consumer Healthcare LP"
        ],
        "dang_bao_che_id": "C42953",
        "dang_bao_che_name": [
         "LIQUID",
         "Dạng lỏng",
         "Dang long"
        ],
        "duong_dung_id": "C38288",
        "duong_dung_name": [
         "Uong",
         "ORAL",
         "Uống"
        ],
        "duong_dung_raw": [
         {
          "id": "C38288",
          "name": "Uống"
         }
        ],
        "highlighted_title": "<em>PANADOL</em>",
        "highlighted_title_wo_accent": "<em>PANADOL</em>",
        "hoatchat_count": 1,
        "id": "4237",
        "ingredients": [
         "362O9ITL9D"
        ],
        "ma_NDC": "0135-0537",
        "title": "PANADOL",
        "type": 3
       },
       {
        "SDK": "VD-21189-14",
        "_type": "bietduoc",
        "bietduochoatchat_set": [
         {
          "bietduoc_id": 85192,
          "don_vi": "mg",
          "duoclieu_id": null,
          "ham_luong": "65",
          "ham_luong_filter": 65,
          "hoatchat_id": "3G6A5W338E",
          "hoatchat_name": "CAFFEINE"
         },
         {
          "bietduoc_id": 85192,
          "don_vi": "mg",
          "duoclieu_id": null,
          "ham_luong": "500",
          "ham_luong_filter": 500,
          "hoatchat_id": "362O9ITL9D",
          "hoatchat_name": "ACETAMINOPHEN"
         }
        ],
        "cty": [
         "SGP00007",
         "VNC00148A"
        ],
        "cty_dannhan_id": "SGP00007",
        "cty_dannhan_name": [
         "Glaxosmithkline Pte. Ltd."
        ],
        "ctysx_id": "VNC00148A",
        "ctysx_name": [
         "Dược phẩm Sanofi-Synthelabo Việt Nam.",
         "Công ty Cổ phần Dược phẩm Sanofi-Synthelabo Việt Nam."
        ],
        "dang_bao_che_id": "C42998",
        "dang_bao_che_name": [
         "TABLET",
         "Viên nén",
         "Vien nen"
        ],
        "dong_goi": [
         {
          "id": "C43168",
          "title": "Vỉ"
         }
        ],
        "dong_goi_id": [
         "C43168"
        ],
        "dong_goi_name": [
         "BLISTER PACK",
         "Vỉ",
         "Vi"
        ],
        "duong_dung_id": "C38288",
        "duong_dung_name": [
         "Uong",
         "ORAL",
         "Uống"
        ],
        "duong_dung_raw": [
         {
          "id": "C38288",
          "name": "Uống"
         }
        ],
        "highlighted_title": "<em>Panadol</em> extra",
        "highlighted_title_wo_accent": "<em>Panadol</em> extra",
        "hoatchat_count": 2,
        "id": "85192",
        "ingredients": [
         "362O9ITL9D",
         "3G6A5W338E"
        ],
        "nuoc_sx_id": "VNM",
        "phan_nhom_loai": "A1",
        "quy_cach_dong_goi": "Hộp 15 vỉ x 12 viên",
        "title": "Panadol extra",
        "type": 1
       },
       {
        "SDK": "VD-16582-12",
        "_type": "bietduoc",
        "bietduochoatchat_set": [
         {
          "bietduoc_id": 81409,
          "don_vi": "mg",
          "duoclieu_id": null,
          "ham_luong": "5",
          "ham_luong_filter": 5,
          "hoatchat_id": "04JA59TNSJ",
          "hoatchat_name": "PHENYLEPHRINE HYDROCHLORIDE"
         },
         {
          "bietduoc_id": 81409,
          "don_vi": "mg",
          "duoclieu_id": null,
          "ham_luong": "25",
          "ham_luong_filter": 25,
          "hoatchat_id": "3G6A5W338E",
          "hoatchat_name": "CAFFEINE"
         },
         {
          "bietduoc_id": 81409,
          "don_vi": "mg",
          "duoclieu_id": null,
          "ham_luong": "500",
          "ham_luong_filter": 500,
          "hoatchat_id": "362O9ITL9D",
          "hoatchat_name": "ACETAMINOPHEN"
         }
        ],
        "cty": [
         "SGP00007",
         "VNC00148A"
        ],
        "cty_dannhan_id": "SGP00007",
        "cty_dannhan_name": [
         "Glaxosmithkline Pte. Ltd."
        ],
        "ctysx_id": "VNC00148A",
        "ctysx_name": [
         "Dược phẩm Sanofi-Synthelabo Việt Nam.",
         "Công ty Cổ phần Dược phẩm Sanofi-Synthelabo Việt Nam."
        ],
        "dang_bao_che_id": "C42931",
        "dang_bao_che_name": [
         "TABLET, FILM COATED",
         "Viên nén, bao phim",
         "Vien nen, bao phim"
        ],
        "dong_goi": [
         {
          "id": "C43168",
          "title": "Vỉ"
         }
        ],
        "dong_goi_id": [
         "C43168"
        ],
        "dong_goi_name": [
         "BLISTER PACK",
         "Vỉ",
         "Vi"
        ],
        "duong_dung_id": "C38288",
        "duong_dung_name": [
         "Uong",
         "ORAL",
         "Uống"
        ],
        "duong_dung_raw": [
         {
          "id": "C38288",
          "name": "Uống"
         }
        ],
        "highlighted_title": "<em>Panadol</em> cảm cúm",
        "highlighted_title_wo_accent": "<em>Panadol</em> cam cum",
        "hoatchat_count": 3,
        "id": "81409",
        "ingredients": [
         "04JA59TNSJ",
         "362O9ITL9D",
         "3G6A5W338E"
        ],
        "nuoc_sx_id": "VNM",
        "phan_nhom_loai": "A1",
        "quy_cach_dong_goi": "Hộp 10 vỉ x 10 viên nén bao phim",
        "thumbnail": "uploads/bietduoc/Bao/VD-16582-12 (1)_ex.jpg",
        "title": "Panadol cảm cúm",
        "type": 1
       }
      ],
      "text/plain": [
       "<IPython.core.display.JSON object>"
      ]
     },
     "metadata": {
      "application/json": {
       "expanded": false,
       "root": "root"
      }
     },
     "output_type": "display_data"
    }
   ],
   "source": [
    "panadol = T3.search('bietduoc', 'Panadol')\n",
    "display(JSON(panadol.data))"
   ]
  },
  {
   "cell_type": "code",
   "execution_count": null,
   "metadata": {},
   "outputs": [],
   "source": [
    "for item in panadol.data:\n",
    "    if item.get('thumbnail', False):\n",
    "        display(HTML('<img src=\"https://thongtinthuoc.com/%s\">' % item.thumbnail))"
   ]
  },
  {
   "cell_type": "code",
   "execution_count": null,
   "metadata": {},
   "outputs": [],
   "source": [
    "ngaicuu = T3.search('duoclieu', 'Ngai cuu')\n",
    "display(JSON(ngaicuu.data))"
   ]
  },
  {
   "cell_type": "code",
   "execution_count": null,
   "metadata": {},
   "outputs": [],
   "source": [
    "for item in ngaicuu.data:\n",
    "    if item.get('thumbnail', False):\n",
    "        display(HTML('<img src=\"%s\">' % item.thumbnail))"
   ]
  },
  {
   "cell_type": "code",
   "execution_count": null,
   "metadata": {},
   "outputs": [],
   "source": [
    "metformin = T3.search('unii', 'metformin')\n",
    "display(JSON(metformin.data))"
   ]
  },
  {
   "cell_type": "code",
   "execution_count": null,
   "metadata": {},
   "outputs": [],
   "source": [
    "for item in metformin.data:\n",
    "    if item.get('thumbnail', False):\n",
    "        display(HTML('<img src=\"%s\">' % item.thumbnail))"
   ]
  },
  {
   "cell_type": "code",
   "execution_count": 22,
   "metadata": {},
   "outputs": [
    {
     "data": {
      "application/json": [
       {
        "_type": "doanhnghiep",
        "alt_titles": [],
        "boost": 1,
        "display_name": "GlaxoSmithKline Manufacturing SpA",
        "highlighted_title": "<em>GlaxoSmithKline</em> Manufacturing SpA",
        "highlighted_title_wo_accent": "<em>GlaxoSmithKline</em> Manufacturing SpA",
        "id": "51952",
        "pub_status": "L",
        "searchable_address": [],
        "title": "GlaxoSmithKline Manufacturing SpA",
        "title_wo_accent": "GlaxoSmithKline Manufacturing SpA",
        "variant_titles": [
         "glaxosmithkline manufacturing spa",
         "gllaxosmithklline manufacturing spa"
        ]
       },
       {
        "_type": "doanhnghiep",
        "alt_titles": [],
        "boost": 1,
        "dia_chi": "65 Fifth Avenue, TEDA Tianjin 300457",
        "display_name": "GlaxoSmithKline (Tianjin) Co., Ltd.",
        "highlighted_title": "<em>GlaxoSmithKline</em> (Tianjin) Co., Ltd.",
        "highlighted_title_wo_accent": "<em>GlaxoSmithKline</em> (Tianjin) Co., Ltd.",
        "id": "CHN00018",
        "pub_status": "L",
        "searchable_address": [
         "65 Fifth Avenue, TEDA Tianjin 300457"
        ],
        "title": "GlaxoSmithKline (Tianjin) Co., Ltd.",
        "title_wo_accent": "GlaxoSmithKline (Tianjin) Co., Ltd.",
        "variant_titles": [
         "glaxosmithkline (tianjin) co., ltd.",
         "glaxosmithkline (tianjin) co., lltd.",
         "gllaxosmithklline (tianjin) co., ltd.",
         "gllaxosmithklline (tianjin) co., lltd."
        ]
       },
       {
        "_type": "doanhnghiep",
        "alt_titles": [],
        "boost": 1,
        "display_name": "GlaxoSmithKline Dungarvan Ltd",
        "highlighted_title": "<em>GlaxoSmithKline</em> Dungarvan Ltd",
        "highlighted_title_wo_accent": "<em>GlaxoSmithKline</em> Dungarvan Ltd",
        "id": "58316",
        "pub_status": "L",
        "searchable_address": [],
        "title": "GlaxoSmithKline Dungarvan Ltd",
        "title_wo_accent": "GlaxoSmithKline Dungarvan Ltd",
        "variant_titles": [
         "glaxosmithkline dungarvan ltd",
         "glaxosmithkline dungarvan lltd",
         "gllaxosmithklline dungarvan ltd",
         "gllaxosmithklline dungarvan lltd"
        ]
       },
       {
        "_type": "doanhnghiep",
        "alt_titles": [],
        "boost": 1,
        "display_name": "GlaxoSmithKline (Thailand) Limited",
        "highlighted_title": "<em>GlaxoSmithKline</em> (Thailand) Limited",
        "highlighted_title_wo_accent": "<em>GlaxoSmithKline</em> (Thailand) Limited",
        "id": "NNC00062",
        "pub_status": "L",
        "searchable_address": [],
        "title": "GlaxoSmithKline (Thailand) Limited",
        "title_wo_accent": "GlaxoSmithKline (Thailand) Limited",
        "variant_titles": [
         "glaxosmithkline (thailand) limited",
         "glaxosmithkline (thailand) llimited",
         "glaxosmithkline (thailland) limited",
         "glaxosmithkline (thailland) llimited",
         "gllaxosmithklline (thailand) limited",
         "gllaxosmithklline (thailand) llimited",
         "gllaxosmithklline (thailland) limited",
         "gllaxosmithklline (thailland) llimited"
        ]
       },
       {
        "_type": "doanhnghiep",
        "alt_titles": [],
        "boost": 1,
        "display_name": "GlaxoSmithKline Inc",
        "highlighted_title": "<em>GlaxoSmithKline</em> Inc",
        "id": "53873",
        "pub_status": "L",
        "searchable_address": [],
        "title": "GlaxoSmithKline Inc",
        "variant_titles": [
         "glaxosmithkline inc",
         "gllaxosmithklline inc"
        ]
       },
       {
        "_type": "doanhnghiep",
        "alt_titles": [],
        "boost": 1,
        "display_name": "GlaxoSmithKline LLC",
        "highlighted_title": "<em>GlaxoSmithKline</em> LLC",
        "id": "0029",
        "pub_status": "L",
        "searchable_address": [],
        "title": "GlaxoSmithKline LLC",
        "variant_titles": [
         "glaxosmithkline llc",
         "glaxosmithkline lc",
         "gllaxosmithklline llc",
         "gllaxosmithklline lc"
        ]
       },
       {
        "_type": "doanhnghiep",
        "alt_titles": [],
        "boost": 1,
        "display_name": "GlaxoSmithKline LLC",
        "highlighted_title": "<em>GlaxoSmithKline</em> LLC",
        "id": "0007",
        "pub_status": "L",
        "searchable_address": [],
        "title": "GlaxoSmithKline LLC",
        "variant_titles": [
         "glaxosmithkline llc",
         "glaxosmithkline lc",
         "gllaxosmithklline llc",
         "gllaxosmithklline lc"
        ]
       },
       {
        "_type": "doanhnghiep",
        "alt_titles": [],
        "boost": 1,
        "display_name": "GlaxoSmithKline LLC",
        "highlighted_title": "<em>GlaxoSmithKline</em> LLC",
        "id": "0173",
        "pub_status": "L",
        "searchable_address": [],
        "title": "GlaxoSmithKline LLC",
        "variant_titles": [
         "glaxosmithkline llc",
         "glaxosmithkline lc",
         "gllaxosmithklline llc",
         "gllaxosmithklline lc"
        ]
       },
       {
        "_type": "doanhnghiep",
        "alt_titles": [],
        "boost": 1,
        "display_name": "GlaxoSmithKline LLC",
        "highlighted_title": "<em>GlaxoSmithKline</em> LLC",
        "id": "65726",
        "pub_status": "L",
        "searchable_address": [],
        "title": "GlaxoSmithKline LLC",
        "variant_titles": [
         "glaxosmithkline llc",
         "glaxosmithkline lc",
         "gllaxosmithklline llc",
         "gllaxosmithklline lc"
        ]
       },
       {
        "_type": "doanhnghiep",
        "alt_titles": [],
        "boost": 1,
        "dia_chi": "Strada Provinciale Asolana, 90, 43056 San Polo di Torrile Parma",
        "display_name": "GlaxoSmithKline Manufacturing S.p.A",
        "highlighted_title": "<em>GlaxoSmithKline</em> Manufacturing S.p.A",
        "id": "12064",
        "pub_status": "L",
        "searchable_address": [
         "Strada Provinciale Asolana, 90, 43056 San Polo di Torrile Parma"
        ],
        "title": "GlaxoSmithKline Manufacturing S.p.A",
        "variant_titles": [
         "glaxosmithkline manufacturing s.p.a",
         "gllaxosmithklline manufacturing s.p.a"
        ]
       },
       {
        "_type": "doanhnghiep",
        "alt_titles": [],
        "boost": 1,
        "display_name": "GlaxoSmithKline Biologicals SA",
        "highlighted_title": "<em>GlaxoSmithKline</em> Biologicals SA",
        "id": "58160",
        "pub_status": "L",
        "searchable_address": [],
        "title": "GlaxoSmithKline Biologicals SA",
        "variant_titles": [
         "glaxosmithkline biologicals sa",
         "glaxosmithkline biollogicalls sa",
         "gllaxosmithklline biologicals sa",
         "gllaxosmithklline biollogicalls sa"
        ]
       },
       {
        "_type": "doanhnghiep",
        "alt_titles": [],
        "boost": 1,
        "dia_chi": "150 Beach road #21-00 Gateway west, Singapore 189720",
        "display_name": "Glaxosmithkline Pte. Ltd.",
        "highlighted_title": "<em>Glaxosmithkline</em> Pte. Ltd.",
        "id": "SGP00007",
        "pub_status": "L",
        "searchable_address": [
         "150 Beach road #21-00 Gateway west, Singapore 189720"
        ],
        "title": "Glaxosmithkline Pte. Ltd.",
        "variant_titles": [
         "glaxosmithkline pte. ltd.",
         "glaxosmithkline pte. lltd.",
         "gllaxosmithklline pte. ltd.",
         "gllaxosmithklline pte. lltd."
        ]
       }
      ],
      "text/plain": [
       "<IPython.core.display.JSON object>"
      ]
     },
     "metadata": {
      "application/json": {
       "expanded": false,
       "root": "root"
      }
     },
     "output_type": "display_data"
    }
   ],
   "source": [
    "glaxo = T3.search('doanhnghiep', 'Glaxosmithkline')\n",
    "display(JSON(glaxo.data))"
   ]
  },
  {
   "cell_type": "code",
   "execution_count": 27,
   "metadata": {},
   "outputs": [
    {
     "name": "stdout",
     "output_type": "stream",
     "text": [
      "Name: GlaxoSmithKline (Tianjin) Co., Ltd.\n",
      "Address: 65 Fifth Avenue, TEDA Tianjin 300457\n",
      "\n",
      "Name: GlaxoSmithKline Manufacturing S.p.A\n",
      "Address: Strada Provinciale Asolana, 90, 43056 San Polo di Torrile Parma\n",
      "\n",
      "Name: Glaxosmithkline Pte. Ltd.\n",
      "Address: 150 Beach road #21-00 Gateway west, Singapore 189720\n",
      "\n"
     ]
    }
   ],
   "source": [
    "for item in glaxo.data:\n",
    "    if item.get('dia_chi'):\n",
    "        print('Name: %s' % item.title)\n",
    "        print('Address: %s' % item.dia_chi)\n",
    "        print('')"
   ]
  },
  {
   "cell_type": "code",
   "execution_count": null,
   "metadata": {},
   "outputs": [],
   "source": []
  }
 ],
 "metadata": {
  "kernelspec": {
   "display_name": "Python 3",
   "language": "python",
   "name": "python3"
  },
  "language_info": {
   "codemirror_mode": {
    "name": "ipython",
    "version": 3
   },
   "file_extension": ".py",
   "mimetype": "text/x-python",
   "name": "python",
   "nbconvert_exporter": "python",
   "pygments_lexer": "ipython3",
   "version": "3.7.4"
  }
 },
 "nbformat": 4,
 "nbformat_minor": 4
}
