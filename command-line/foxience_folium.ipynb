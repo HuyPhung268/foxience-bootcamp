{
 "cells": [
  {
   "cell_type": "code",
   "execution_count": null,
   "metadata": {},
   "outputs": [],
   "source": [
    "import os\n",
    "import json\n",
    "import requests\n",
    "import folium\n",
    "import pandas as pd\n",
    "\n",
    "url = 'https://raw.githubusercontent.com/python-visualization/folium/master/examples/data'\n",
    "us_states = f'{url}/us-states.json'\n",
    "geo_json_data = json.loads(requests.get(us_states).text)\n",
    "\n",
    "sample_data = f'{url}/data.json'\n",
    "sample_json_data = json.loads(requests.get(sample_data).text)\n",
    "#pd.DataFrame(sample_json_data)\n",
    "sample_dataframe = pd.DataFrame(sample_json_data[0].items(), columns=['State','Rank'])"
   ]
  },
  {
   "cell_type": "code",
   "execution_count": null,
   "metadata": {},
   "outputs": [],
   "source": [
    "map = folium.Map([43, -100], zoom_start=4)\n",
    "folium.GeoJson(geo_json_data).add_to(map)"
   ]
  },
  {
   "cell_type": "code",
   "execution_count": null,
   "metadata": {},
   "outputs": [],
   "source": [
    "map.choropleth(geo_data=us_states, data=sample_dataframe, \\\n",
    "             columns=['State', 'Rank'], \\\n",
    "             key_on='feature.id', \\\n",
    "             fill_color='YlGn', fill_opacity=0.7, line_opacity=0.2, \\\n",
    "             legend_name='Rank')"
   ]
  },
  {
   "cell_type": "code",
   "execution_count": null,
   "metadata": {},
   "outputs": [],
   "source": [
    "map"
   ]
  },
  {
   "cell_type": "code",
   "execution_count": null,
   "metadata": {},
   "outputs": [],
   "source": []
  }
 ],
 "metadata": {
  "kernelspec": {
   "display_name": "Python 3",
   "language": "python",
   "name": "python3"
  },
  "language_info": {
   "codemirror_mode": {
    "name": "ipython",
    "version": 3
   },
   "file_extension": ".py",
   "mimetype": "text/x-python",
   "name": "python",
   "nbconvert_exporter": "python",
   "pygments_lexer": "ipython3",
   "version": "3.7.4"
  }
 },
 "nbformat": 4,
 "nbformat_minor": 4
}
