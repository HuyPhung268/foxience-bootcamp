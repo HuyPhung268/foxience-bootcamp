{
 "cells": [
  {
   "cell_type": "code",
   "execution_count": 37,
   "metadata": {},
   "outputs": [
    {
     "name": "stdout",
     "output_type": "stream",
     "text": [
      "True\n",
      "123\n",
      "456\n",
      "My name is Dat\n",
      "[1, 2, 3, 4]\n",
      "(1, 2)\n",
      "{'name': 'Dat', 'age': 29}\n",
      "My name is Dat\n",
      "I'm 29 year old\n"
     ]
    }
   ],
   "source": [
    "# Variable types\n",
    "predicate = True | False # boolean\n",
    "print(predicate)\n",
    "\n",
    "integer_number = 123     # integer\n",
    "print(integer_number)\n",
    "\n",
    "real_number = 456        # float\n",
    "print(real_number)\n",
    "\n",
    "name = 'My name is Dat'  # string\n",
    "print(name)\n",
    "\n",
    "number_list = [1, 2, 3, 4]\n",
    "print(number_list)\n",
    "\n",
    "# number_range = range(1, 100)\n",
    "pair = (1, 2)\n",
    "print(pair)\n",
    "\n",
    "me = { 'name': 'Dat', 'age': 29 }\n",
    "print(me)\n",
    "print('My name is %s' % me['name'])\n",
    "print(\"I'm %s year old\" % me['age'])"
   ]
  },
  {
   "cell_type": "code",
   "execution_count": 13,
   "metadata": {},
   "outputs": [
    {
     "data": {
      "text/plain": [
       "0.6666666666666666"
      ]
     },
     "execution_count": 13,
     "metadata": {},
     "output_type": "execute_result"
    }
   ],
   "source": [
    "# Operators\n",
    "2 + 3\n",
    "2 * 3\n",
    "2 - 3\n",
    "2 / 3"
   ]
  },
  {
   "cell_type": "code",
   "execution_count": 21,
   "metadata": {},
   "outputs": [
    {
     "data": {
      "text/plain": [
       "True"
      ]
     },
     "execution_count": 21,
     "metadata": {},
     "output_type": "execute_result"
    }
   ],
   "source": [
    "# Predicate / Comparision\n",
    "2 == 3\n",
    "2 != 3\n",
    "2 < 3\n",
    "2 > 3\n",
    "2 <= 3\n",
    "2 >= 3\n",
    "\n",
    "(2 <= 3) and (1 >= 4)\n",
    "(2 <= 3) or (1 >= 4)\n",
    "not (2 <= 3)\n",
    "2 in range(1, 10)\n",
    "100 not in range(1, 100)"
   ]
  },
  {
   "cell_type": "code",
   "execution_count": 10,
   "metadata": {},
   "outputs": [
    {
     "name": "stdout",
     "output_type": "stream",
     "text": [
      "39\n"
     ]
    }
   ],
   "source": [
    "my_age = 29\n",
    "my_age_in_10_year = my_age + 10\n",
    "print(my_age_in_10_year)"
   ]
  },
  {
   "cell_type": "code",
   "execution_count": 6,
   "metadata": {},
   "outputs": [
    {
     "data": {
      "text/plain": [
       "'Hello world'"
      ]
     },
     "execution_count": 6,
     "metadata": {},
     "output_type": "execute_result"
    }
   ],
   "source": [
    "def my_function():\n",
    "    return 'Hello world'\n",
    "my_function()"
   ]
  },
  {
   "cell_type": "code",
   "execution_count": 5,
   "metadata": {},
   "outputs": [
    {
     "data": {
      "text/plain": [
       "4"
      ]
     },
     "execution_count": 5,
     "metadata": {},
     "output_type": "execute_result"
    }
   ],
   "source": [
    "def sum(argument1, argument2):\n",
    "    return argument1 + argument2\n",
    "sum(1, 3)"
   ]
  },
  {
   "cell_type": "code",
   "execution_count": 28,
   "metadata": {},
   "outputs": [
    {
     "name": "stdout",
     "output_type": "stream",
     "text": [
      "not equal\n"
     ]
    }
   ],
   "source": [
    "# if else block\n",
    "if 2 == 3:\n",
    "    print('equal')\n",
    "else:\n",
    "    print('not equal')"
   ]
  },
  {
   "cell_type": "code",
   "execution_count": 31,
   "metadata": {},
   "outputs": [
    {
     "name": "stdout",
     "output_type": "stream",
     "text": [
      "1\n",
      "4\n",
      "9\n",
      "16\n",
      "25\n",
      "36\n",
      "49\n",
      "64\n",
      "81\n"
     ]
    }
   ],
   "source": [
    "# for loop\n",
    "for index in range(1, 10):\n",
    "    print(index ** 2)"
   ]
  },
  {
   "cell_type": "code",
   "execution_count": 38,
   "metadata": {},
   "outputs": [],
   "source": [
    "from thongtinthuoc import Thongtinthuoc\n",
    "from googletrans import Translator\n"
   ]
  },
  {
   "cell_type": "code",
   "execution_count": null,
   "metadata": {},
   "outputs": [],
   "source": []
  }
 ],
 "metadata": {
  "kernelspec": {
   "display_name": "Python 3",
   "language": "python",
   "name": "python3"
  },
  "language_info": {
   "codemirror_mode": {
    "name": "ipython",
    "version": 3
   },
   "file_extension": ".py",
   "mimetype": "text/x-python",
   "name": "python",
   "nbconvert_exporter": "python",
   "pygments_lexer": "ipython3",
   "version": "3.7.4"
  }
 },
 "nbformat": 4,
 "nbformat_minor": 4
}
